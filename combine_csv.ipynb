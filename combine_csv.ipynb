{
  "nbformat": 4,
  "nbformat_minor": 0,
  "metadata": {
    "colab": {
      "name": "combine_csv.ipynb",
      "provenance": []
    },
    "kernelspec": {
      "name": "python3",
      "display_name": "Python 3"
    },
    "language_info": {
      "name": "python"
    }
  },
  "cells": [
    {
      "cell_type": "code",
      "execution_count": 1,
      "metadata": {
        "id": "4WdQLBd-6jVe"
      },
      "outputs": [],
      "source": [
        "import pandas as pd\n",
        "import os"
      ]
    },
    {
      "cell_type": "code",
      "source": [
        "!pip install pyspark"
      ],
      "metadata": {
        "colab": {
          "base_uri": "https://localhost:8080/"
        },
        "id": "zggPvFzk732m",
        "outputId": "e1c8723e-5c5c-4773-b131-1643245b3dcf"
      },
      "execution_count": 47,
      "outputs": [
        {
          "output_type": "stream",
          "name": "stdout",
          "text": [
            "Looking in indexes: https://pypi.org/simple, https://us-python.pkg.dev/colab-wheels/public/simple/\n",
            "Requirement already satisfied: pyspark in /usr/local/lib/python3.7/dist-packages (3.3.0)\n",
            "Requirement already satisfied: py4j==0.10.9.5 in /usr/local/lib/python3.7/dist-packages (from pyspark) (0.10.9.5)\n"
          ]
        }
      ]
    },
    {
      "cell_type": "code",
      "source": [
        "transac = pd.read_csv('/content/drive/MyDrive/diggibyte/spark_1/transaction.csv')\n",
        "user = pd.read_csv('/content/drive/MyDrive/diggibyte/spark_1/user.csv')"
      ],
      "metadata": {
        "id": "BfaC1kWe7QnW"
      },
      "execution_count": 3,
      "outputs": []
    },
    {
      "cell_type": "code",
      "source": [
        "transac"
      ],
      "metadata": {
        "colab": {
          "base_uri": "https://localhost:8080/",
          "height": 322
        },
        "id": "AOKiNRsZ7qvL",
        "outputId": "b2e74fd7-80d6-4b17-be09-66db4b5ee0da"
      },
      "execution_count": 4,
      "outputs": [
        {
          "output_type": "execute_result",
          "data": {
            "text/plain": [
              "   transaction_id  product_id  userid  price product_description\n",
              "0         3300101     1000001     101    700               mouse\n",
              "1         3300102     1000002     102    900            keyboard\n",
              "2         3300103     1000003     103  34000                  tv\n",
              "3         3300104     1000004     101  35000              fridge\n",
              "4         3300105     1000005     105  55000                sofa\n",
              "5         3300106     1000006     106    100                 bed\n",
              "6         3300107     1000007     105  66000              laptop\n",
              "7         3300108     1000008     108  20000               phone\n",
              "8         3300109     1000009     101    500             speaker\n",
              "9         3300110     1000010     102   1000               chair"
            ],
            "text/html": [
              "\n",
              "  <div id=\"df-6a57a531-2e08-4d5d-a345-5e457df98116\">\n",
              "    <div class=\"colab-df-container\">\n",
              "      <div>\n",
              "<style scoped>\n",
              "    .dataframe tbody tr th:only-of-type {\n",
              "        vertical-align: middle;\n",
              "    }\n",
              "\n",
              "    .dataframe tbody tr th {\n",
              "        vertical-align: top;\n",
              "    }\n",
              "\n",
              "    .dataframe thead th {\n",
              "        text-align: right;\n",
              "    }\n",
              "</style>\n",
              "<table border=\"1\" class=\"dataframe\">\n",
              "  <thead>\n",
              "    <tr style=\"text-align: right;\">\n",
              "      <th></th>\n",
              "      <th>transaction_id</th>\n",
              "      <th>product_id</th>\n",
              "      <th>userid</th>\n",
              "      <th>price</th>\n",
              "      <th>product_description</th>\n",
              "    </tr>\n",
              "  </thead>\n",
              "  <tbody>\n",
              "    <tr>\n",
              "      <th>0</th>\n",
              "      <td>3300101</td>\n",
              "      <td>1000001</td>\n",
              "      <td>101</td>\n",
              "      <td>700</td>\n",
              "      <td>mouse</td>\n",
              "    </tr>\n",
              "    <tr>\n",
              "      <th>1</th>\n",
              "      <td>3300102</td>\n",
              "      <td>1000002</td>\n",
              "      <td>102</td>\n",
              "      <td>900</td>\n",
              "      <td>keyboard</td>\n",
              "    </tr>\n",
              "    <tr>\n",
              "      <th>2</th>\n",
              "      <td>3300103</td>\n",
              "      <td>1000003</td>\n",
              "      <td>103</td>\n",
              "      <td>34000</td>\n",
              "      <td>tv</td>\n",
              "    </tr>\n",
              "    <tr>\n",
              "      <th>3</th>\n",
              "      <td>3300104</td>\n",
              "      <td>1000004</td>\n",
              "      <td>101</td>\n",
              "      <td>35000</td>\n",
              "      <td>fridge</td>\n",
              "    </tr>\n",
              "    <tr>\n",
              "      <th>4</th>\n",
              "      <td>3300105</td>\n",
              "      <td>1000005</td>\n",
              "      <td>105</td>\n",
              "      <td>55000</td>\n",
              "      <td>sofa</td>\n",
              "    </tr>\n",
              "    <tr>\n",
              "      <th>5</th>\n",
              "      <td>3300106</td>\n",
              "      <td>1000006</td>\n",
              "      <td>106</td>\n",
              "      <td>100</td>\n",
              "      <td>bed</td>\n",
              "    </tr>\n",
              "    <tr>\n",
              "      <th>6</th>\n",
              "      <td>3300107</td>\n",
              "      <td>1000007</td>\n",
              "      <td>105</td>\n",
              "      <td>66000</td>\n",
              "      <td>laptop</td>\n",
              "    </tr>\n",
              "    <tr>\n",
              "      <th>7</th>\n",
              "      <td>3300108</td>\n",
              "      <td>1000008</td>\n",
              "      <td>108</td>\n",
              "      <td>20000</td>\n",
              "      <td>phone</td>\n",
              "    </tr>\n",
              "    <tr>\n",
              "      <th>8</th>\n",
              "      <td>3300109</td>\n",
              "      <td>1000009</td>\n",
              "      <td>101</td>\n",
              "      <td>500</td>\n",
              "      <td>speaker</td>\n",
              "    </tr>\n",
              "    <tr>\n",
              "      <th>9</th>\n",
              "      <td>3300110</td>\n",
              "      <td>1000010</td>\n",
              "      <td>102</td>\n",
              "      <td>1000</td>\n",
              "      <td>chair</td>\n",
              "    </tr>\n",
              "  </tbody>\n",
              "</table>\n",
              "</div>\n",
              "      <button class=\"colab-df-convert\" onclick=\"convertToInteractive('df-6a57a531-2e08-4d5d-a345-5e457df98116')\"\n",
              "              title=\"Convert this dataframe to an interactive table.\"\n",
              "              style=\"display:none;\">\n",
              "        \n",
              "  <svg xmlns=\"http://www.w3.org/2000/svg\" height=\"24px\"viewBox=\"0 0 24 24\"\n",
              "       width=\"24px\">\n",
              "    <path d=\"M0 0h24v24H0V0z\" fill=\"none\"/>\n",
              "    <path d=\"M18.56 5.44l.94 2.06.94-2.06 2.06-.94-2.06-.94-.94-2.06-.94 2.06-2.06.94zm-11 1L8.5 8.5l.94-2.06 2.06-.94-2.06-.94L8.5 2.5l-.94 2.06-2.06.94zm10 10l.94 2.06.94-2.06 2.06-.94-2.06-.94-.94-2.06-.94 2.06-2.06.94z\"/><path d=\"M17.41 7.96l-1.37-1.37c-.4-.4-.92-.59-1.43-.59-.52 0-1.04.2-1.43.59L10.3 9.45l-7.72 7.72c-.78.78-.78 2.05 0 2.83L4 21.41c.39.39.9.59 1.41.59.51 0 1.02-.2 1.41-.59l7.78-7.78 2.81-2.81c.8-.78.8-2.07 0-2.86zM5.41 20L4 18.59l7.72-7.72 1.47 1.35L5.41 20z\"/>\n",
              "  </svg>\n",
              "      </button>\n",
              "      \n",
              "  <style>\n",
              "    .colab-df-container {\n",
              "      display:flex;\n",
              "      flex-wrap:wrap;\n",
              "      gap: 12px;\n",
              "    }\n",
              "\n",
              "    .colab-df-convert {\n",
              "      background-color: #E8F0FE;\n",
              "      border: none;\n",
              "      border-radius: 50%;\n",
              "      cursor: pointer;\n",
              "      display: none;\n",
              "      fill: #1967D2;\n",
              "      height: 32px;\n",
              "      padding: 0 0 0 0;\n",
              "      width: 32px;\n",
              "    }\n",
              "\n",
              "    .colab-df-convert:hover {\n",
              "      background-color: #E2EBFA;\n",
              "      box-shadow: 0px 1px 2px rgba(60, 64, 67, 0.3), 0px 1px 3px 1px rgba(60, 64, 67, 0.15);\n",
              "      fill: #174EA6;\n",
              "    }\n",
              "\n",
              "    [theme=dark] .colab-df-convert {\n",
              "      background-color: #3B4455;\n",
              "      fill: #D2E3FC;\n",
              "    }\n",
              "\n",
              "    [theme=dark] .colab-df-convert:hover {\n",
              "      background-color: #434B5C;\n",
              "      box-shadow: 0px 1px 3px 1px rgba(0, 0, 0, 0.15);\n",
              "      filter: drop-shadow(0px 1px 2px rgba(0, 0, 0, 0.3));\n",
              "      fill: #FFFFFF;\n",
              "    }\n",
              "  </style>\n",
              "\n",
              "      <script>\n",
              "        const buttonEl =\n",
              "          document.querySelector('#df-6a57a531-2e08-4d5d-a345-5e457df98116 button.colab-df-convert');\n",
              "        buttonEl.style.display =\n",
              "          google.colab.kernel.accessAllowed ? 'block' : 'none';\n",
              "\n",
              "        async function convertToInteractive(key) {\n",
              "          const element = document.querySelector('#df-6a57a531-2e08-4d5d-a345-5e457df98116');\n",
              "          const dataTable =\n",
              "            await google.colab.kernel.invokeFunction('convertToInteractive',\n",
              "                                                     [key], {});\n",
              "          if (!dataTable) return;\n",
              "\n",
              "          const docLinkHtml = 'Like what you see? Visit the ' +\n",
              "            '<a target=\"_blank\" href=https://colab.research.google.com/notebooks/data_table.ipynb>data table notebook</a>'\n",
              "            + ' to learn more about interactive tables.';\n",
              "          element.innerHTML = '';\n",
              "          dataTable['output_type'] = 'display_data';\n",
              "          await google.colab.output.renderOutput(dataTable, element);\n",
              "          const docLink = document.createElement('div');\n",
              "          docLink.innerHTML = docLinkHtml;\n",
              "          element.appendChild(docLink);\n",
              "        }\n",
              "      </script>\n",
              "    </div>\n",
              "  </div>\n",
              "  "
            ]
          },
          "metadata": {},
          "execution_count": 4
        }
      ]
    },
    {
      "cell_type": "code",
      "source": [
        "col = {'userid' : 'user_id'}"
      ],
      "metadata": {
        "id": "BmHhZZQs8lTb"
      },
      "execution_count": 12,
      "outputs": []
    },
    {
      "cell_type": "code",
      "source": [
        "transac.rename(columns = col, inplace=True)"
      ],
      "metadata": {
        "id": "_B-xmC5i8L6_"
      },
      "execution_count": 13,
      "outputs": []
    },
    {
      "cell_type": "code",
      "source": [
        "user"
      ],
      "metadata": {
        "colab": {
          "base_uri": "https://localhost:8080/",
          "height": 363
        },
        "id": "qkAp0Ypv7wi8",
        "outputId": "a2f00bf6-31a0-47fc-93b5-ba1d66ee2df0"
      },
      "execution_count": 5,
      "outputs": [
        {
          "output_type": "execute_result",
          "data": {
            "text/plain": [
              "   user_id               emailid nativelanguage location \n",
              "0      101     abc.123@gmail.com          hindi    mumbai\n",
              "1      102        jhon@gmail.com        english       usa\n",
              "2      103    madan.44@gmail.com        marathi    nagpur\n",
              "3      104  local.88@outlook.com          tamil   chennai\n",
              "4      105    sahil.55@gmail.com        english       usa\n",
              "5      106         adi@gmail.com          hindi    nagpur\n",
              "6      107       jason@gmail.com        marathi    mumbai\n",
              "7      108       sohan@gmail.com         kannad       usa\n",
              "8      109      case@outlook.com          tamil    mumbai\n",
              "9      110        fury@gmail.com          hindi    nagpur"
            ],
            "text/html": [
              "\n",
              "  <div id=\"df-53c3b86f-3109-4c7c-ac9a-e3e79304759a\">\n",
              "    <div class=\"colab-df-container\">\n",
              "      <div>\n",
              "<style scoped>\n",
              "    .dataframe tbody tr th:only-of-type {\n",
              "        vertical-align: middle;\n",
              "    }\n",
              "\n",
              "    .dataframe tbody tr th {\n",
              "        vertical-align: top;\n",
              "    }\n",
              "\n",
              "    .dataframe thead th {\n",
              "        text-align: right;\n",
              "    }\n",
              "</style>\n",
              "<table border=\"1\" class=\"dataframe\">\n",
              "  <thead>\n",
              "    <tr style=\"text-align: right;\">\n",
              "      <th></th>\n",
              "      <th>user_id</th>\n",
              "      <th>emailid</th>\n",
              "      <th>nativelanguage</th>\n",
              "      <th>location</th>\n",
              "    </tr>\n",
              "  </thead>\n",
              "  <tbody>\n",
              "    <tr>\n",
              "      <th>0</th>\n",
              "      <td>101</td>\n",
              "      <td>abc.123@gmail.com</td>\n",
              "      <td>hindi</td>\n",
              "      <td>mumbai</td>\n",
              "    </tr>\n",
              "    <tr>\n",
              "      <th>1</th>\n",
              "      <td>102</td>\n",
              "      <td>jhon@gmail.com</td>\n",
              "      <td>english</td>\n",
              "      <td>usa</td>\n",
              "    </tr>\n",
              "    <tr>\n",
              "      <th>2</th>\n",
              "      <td>103</td>\n",
              "      <td>madan.44@gmail.com</td>\n",
              "      <td>marathi</td>\n",
              "      <td>nagpur</td>\n",
              "    </tr>\n",
              "    <tr>\n",
              "      <th>3</th>\n",
              "      <td>104</td>\n",
              "      <td>local.88@outlook.com</td>\n",
              "      <td>tamil</td>\n",
              "      <td>chennai</td>\n",
              "    </tr>\n",
              "    <tr>\n",
              "      <th>4</th>\n",
              "      <td>105</td>\n",
              "      <td>sahil.55@gmail.com</td>\n",
              "      <td>english</td>\n",
              "      <td>usa</td>\n",
              "    </tr>\n",
              "    <tr>\n",
              "      <th>5</th>\n",
              "      <td>106</td>\n",
              "      <td>adi@gmail.com</td>\n",
              "      <td>hindi</td>\n",
              "      <td>nagpur</td>\n",
              "    </tr>\n",
              "    <tr>\n",
              "      <th>6</th>\n",
              "      <td>107</td>\n",
              "      <td>jason@gmail.com</td>\n",
              "      <td>marathi</td>\n",
              "      <td>mumbai</td>\n",
              "    </tr>\n",
              "    <tr>\n",
              "      <th>7</th>\n",
              "      <td>108</td>\n",
              "      <td>sohan@gmail.com</td>\n",
              "      <td>kannad</td>\n",
              "      <td>usa</td>\n",
              "    </tr>\n",
              "    <tr>\n",
              "      <th>8</th>\n",
              "      <td>109</td>\n",
              "      <td>case@outlook.com</td>\n",
              "      <td>tamil</td>\n",
              "      <td>mumbai</td>\n",
              "    </tr>\n",
              "    <tr>\n",
              "      <th>9</th>\n",
              "      <td>110</td>\n",
              "      <td>fury@gmail.com</td>\n",
              "      <td>hindi</td>\n",
              "      <td>nagpur</td>\n",
              "    </tr>\n",
              "  </tbody>\n",
              "</table>\n",
              "</div>\n",
              "      <button class=\"colab-df-convert\" onclick=\"convertToInteractive('df-53c3b86f-3109-4c7c-ac9a-e3e79304759a')\"\n",
              "              title=\"Convert this dataframe to an interactive table.\"\n",
              "              style=\"display:none;\">\n",
              "        \n",
              "  <svg xmlns=\"http://www.w3.org/2000/svg\" height=\"24px\"viewBox=\"0 0 24 24\"\n",
              "       width=\"24px\">\n",
              "    <path d=\"M0 0h24v24H0V0z\" fill=\"none\"/>\n",
              "    <path d=\"M18.56 5.44l.94 2.06.94-2.06 2.06-.94-2.06-.94-.94-2.06-.94 2.06-2.06.94zm-11 1L8.5 8.5l.94-2.06 2.06-.94-2.06-.94L8.5 2.5l-.94 2.06-2.06.94zm10 10l.94 2.06.94-2.06 2.06-.94-2.06-.94-.94-2.06-.94 2.06-2.06.94z\"/><path d=\"M17.41 7.96l-1.37-1.37c-.4-.4-.92-.59-1.43-.59-.52 0-1.04.2-1.43.59L10.3 9.45l-7.72 7.72c-.78.78-.78 2.05 0 2.83L4 21.41c.39.39.9.59 1.41.59.51 0 1.02-.2 1.41-.59l7.78-7.78 2.81-2.81c.8-.78.8-2.07 0-2.86zM5.41 20L4 18.59l7.72-7.72 1.47 1.35L5.41 20z\"/>\n",
              "  </svg>\n",
              "      </button>\n",
              "      \n",
              "  <style>\n",
              "    .colab-df-container {\n",
              "      display:flex;\n",
              "      flex-wrap:wrap;\n",
              "      gap: 12px;\n",
              "    }\n",
              "\n",
              "    .colab-df-convert {\n",
              "      background-color: #E8F0FE;\n",
              "      border: none;\n",
              "      border-radius: 50%;\n",
              "      cursor: pointer;\n",
              "      display: none;\n",
              "      fill: #1967D2;\n",
              "      height: 32px;\n",
              "      padding: 0 0 0 0;\n",
              "      width: 32px;\n",
              "    }\n",
              "\n",
              "    .colab-df-convert:hover {\n",
              "      background-color: #E2EBFA;\n",
              "      box-shadow: 0px 1px 2px rgba(60, 64, 67, 0.3), 0px 1px 3px 1px rgba(60, 64, 67, 0.15);\n",
              "      fill: #174EA6;\n",
              "    }\n",
              "\n",
              "    [theme=dark] .colab-df-convert {\n",
              "      background-color: #3B4455;\n",
              "      fill: #D2E3FC;\n",
              "    }\n",
              "\n",
              "    [theme=dark] .colab-df-convert:hover {\n",
              "      background-color: #434B5C;\n",
              "      box-shadow: 0px 1px 3px 1px rgba(0, 0, 0, 0.15);\n",
              "      filter: drop-shadow(0px 1px 2px rgba(0, 0, 0, 0.3));\n",
              "      fill: #FFFFFF;\n",
              "    }\n",
              "  </style>\n",
              "\n",
              "      <script>\n",
              "        const buttonEl =\n",
              "          document.querySelector('#df-53c3b86f-3109-4c7c-ac9a-e3e79304759a button.colab-df-convert');\n",
              "        buttonEl.style.display =\n",
              "          google.colab.kernel.accessAllowed ? 'block' : 'none';\n",
              "\n",
              "        async function convertToInteractive(key) {\n",
              "          const element = document.querySelector('#df-53c3b86f-3109-4c7c-ac9a-e3e79304759a');\n",
              "          const dataTable =\n",
              "            await google.colab.kernel.invokeFunction('convertToInteractive',\n",
              "                                                     [key], {});\n",
              "          if (!dataTable) return;\n",
              "\n",
              "          const docLinkHtml = 'Like what you see? Visit the ' +\n",
              "            '<a target=\"_blank\" href=https://colab.research.google.com/notebooks/data_table.ipynb>data table notebook</a>'\n",
              "            + ' to learn more about interactive tables.';\n",
              "          element.innerHTML = '';\n",
              "          dataTable['output_type'] = 'display_data';\n",
              "          await google.colab.output.renderOutput(dataTable, element);\n",
              "          const docLink = document.createElement('div');\n",
              "          docLink.innerHTML = docLinkHtml;\n",
              "          element.appendChild(docLink);\n",
              "        }\n",
              "      </script>\n",
              "    </div>\n",
              "  </div>\n",
              "  "
            ]
          },
          "metadata": {},
          "execution_count": 5
        }
      ]
    },
    {
      "cell_type": "code",
      "source": [
        "transac"
      ],
      "metadata": {
        "colab": {
          "base_uri": "https://localhost:8080/",
          "height": 363
        },
        "id": "UkszlR2X7w43",
        "outputId": "2d9bb7e8-1f24-45f2-cc7f-1f528e2e5769"
      },
      "execution_count": 14,
      "outputs": [
        {
          "output_type": "execute_result",
          "data": {
            "text/plain": [
              "   transaction_id  product_id  user_id  price product_description\n",
              "0         3300101     1000001      101    700               mouse\n",
              "1         3300102     1000002      102    900            keyboard\n",
              "2         3300103     1000003      103  34000                  tv\n",
              "3         3300104     1000004      101  35000              fridge\n",
              "4         3300105     1000005      105  55000                sofa\n",
              "5         3300106     1000006      106    100                 bed\n",
              "6         3300107     1000007      105  66000              laptop\n",
              "7         3300108     1000008      108  20000               phone\n",
              "8         3300109     1000009      101    500             speaker\n",
              "9         3300110     1000010      102   1000               chair"
            ],
            "text/html": [
              "\n",
              "  <div id=\"df-895f4683-5666-4fc8-b068-7d7741b6757f\">\n",
              "    <div class=\"colab-df-container\">\n",
              "      <div>\n",
              "<style scoped>\n",
              "    .dataframe tbody tr th:only-of-type {\n",
              "        vertical-align: middle;\n",
              "    }\n",
              "\n",
              "    .dataframe tbody tr th {\n",
              "        vertical-align: top;\n",
              "    }\n",
              "\n",
              "    .dataframe thead th {\n",
              "        text-align: right;\n",
              "    }\n",
              "</style>\n",
              "<table border=\"1\" class=\"dataframe\">\n",
              "  <thead>\n",
              "    <tr style=\"text-align: right;\">\n",
              "      <th></th>\n",
              "      <th>transaction_id</th>\n",
              "      <th>product_id</th>\n",
              "      <th>user_id</th>\n",
              "      <th>price</th>\n",
              "      <th>product_description</th>\n",
              "    </tr>\n",
              "  </thead>\n",
              "  <tbody>\n",
              "    <tr>\n",
              "      <th>0</th>\n",
              "      <td>3300101</td>\n",
              "      <td>1000001</td>\n",
              "      <td>101</td>\n",
              "      <td>700</td>\n",
              "      <td>mouse</td>\n",
              "    </tr>\n",
              "    <tr>\n",
              "      <th>1</th>\n",
              "      <td>3300102</td>\n",
              "      <td>1000002</td>\n",
              "      <td>102</td>\n",
              "      <td>900</td>\n",
              "      <td>keyboard</td>\n",
              "    </tr>\n",
              "    <tr>\n",
              "      <th>2</th>\n",
              "      <td>3300103</td>\n",
              "      <td>1000003</td>\n",
              "      <td>103</td>\n",
              "      <td>34000</td>\n",
              "      <td>tv</td>\n",
              "    </tr>\n",
              "    <tr>\n",
              "      <th>3</th>\n",
              "      <td>3300104</td>\n",
              "      <td>1000004</td>\n",
              "      <td>101</td>\n",
              "      <td>35000</td>\n",
              "      <td>fridge</td>\n",
              "    </tr>\n",
              "    <tr>\n",
              "      <th>4</th>\n",
              "      <td>3300105</td>\n",
              "      <td>1000005</td>\n",
              "      <td>105</td>\n",
              "      <td>55000</td>\n",
              "      <td>sofa</td>\n",
              "    </tr>\n",
              "    <tr>\n",
              "      <th>5</th>\n",
              "      <td>3300106</td>\n",
              "      <td>1000006</td>\n",
              "      <td>106</td>\n",
              "      <td>100</td>\n",
              "      <td>bed</td>\n",
              "    </tr>\n",
              "    <tr>\n",
              "      <th>6</th>\n",
              "      <td>3300107</td>\n",
              "      <td>1000007</td>\n",
              "      <td>105</td>\n",
              "      <td>66000</td>\n",
              "      <td>laptop</td>\n",
              "    </tr>\n",
              "    <tr>\n",
              "      <th>7</th>\n",
              "      <td>3300108</td>\n",
              "      <td>1000008</td>\n",
              "      <td>108</td>\n",
              "      <td>20000</td>\n",
              "      <td>phone</td>\n",
              "    </tr>\n",
              "    <tr>\n",
              "      <th>8</th>\n",
              "      <td>3300109</td>\n",
              "      <td>1000009</td>\n",
              "      <td>101</td>\n",
              "      <td>500</td>\n",
              "      <td>speaker</td>\n",
              "    </tr>\n",
              "    <tr>\n",
              "      <th>9</th>\n",
              "      <td>3300110</td>\n",
              "      <td>1000010</td>\n",
              "      <td>102</td>\n",
              "      <td>1000</td>\n",
              "      <td>chair</td>\n",
              "    </tr>\n",
              "  </tbody>\n",
              "</table>\n",
              "</div>\n",
              "      <button class=\"colab-df-convert\" onclick=\"convertToInteractive('df-895f4683-5666-4fc8-b068-7d7741b6757f')\"\n",
              "              title=\"Convert this dataframe to an interactive table.\"\n",
              "              style=\"display:none;\">\n",
              "        \n",
              "  <svg xmlns=\"http://www.w3.org/2000/svg\" height=\"24px\"viewBox=\"0 0 24 24\"\n",
              "       width=\"24px\">\n",
              "    <path d=\"M0 0h24v24H0V0z\" fill=\"none\"/>\n",
              "    <path d=\"M18.56 5.44l.94 2.06.94-2.06 2.06-.94-2.06-.94-.94-2.06-.94 2.06-2.06.94zm-11 1L8.5 8.5l.94-2.06 2.06-.94-2.06-.94L8.5 2.5l-.94 2.06-2.06.94zm10 10l.94 2.06.94-2.06 2.06-.94-2.06-.94-.94-2.06-.94 2.06-2.06.94z\"/><path d=\"M17.41 7.96l-1.37-1.37c-.4-.4-.92-.59-1.43-.59-.52 0-1.04.2-1.43.59L10.3 9.45l-7.72 7.72c-.78.78-.78 2.05 0 2.83L4 21.41c.39.39.9.59 1.41.59.51 0 1.02-.2 1.41-.59l7.78-7.78 2.81-2.81c.8-.78.8-2.07 0-2.86zM5.41 20L4 18.59l7.72-7.72 1.47 1.35L5.41 20z\"/>\n",
              "  </svg>\n",
              "      </button>\n",
              "      \n",
              "  <style>\n",
              "    .colab-df-container {\n",
              "      display:flex;\n",
              "      flex-wrap:wrap;\n",
              "      gap: 12px;\n",
              "    }\n",
              "\n",
              "    .colab-df-convert {\n",
              "      background-color: #E8F0FE;\n",
              "      border: none;\n",
              "      border-radius: 50%;\n",
              "      cursor: pointer;\n",
              "      display: none;\n",
              "      fill: #1967D2;\n",
              "      height: 32px;\n",
              "      padding: 0 0 0 0;\n",
              "      width: 32px;\n",
              "    }\n",
              "\n",
              "    .colab-df-convert:hover {\n",
              "      background-color: #E2EBFA;\n",
              "      box-shadow: 0px 1px 2px rgba(60, 64, 67, 0.3), 0px 1px 3px 1px rgba(60, 64, 67, 0.15);\n",
              "      fill: #174EA6;\n",
              "    }\n",
              "\n",
              "    [theme=dark] .colab-df-convert {\n",
              "      background-color: #3B4455;\n",
              "      fill: #D2E3FC;\n",
              "    }\n",
              "\n",
              "    [theme=dark] .colab-df-convert:hover {\n",
              "      background-color: #434B5C;\n",
              "      box-shadow: 0px 1px 3px 1px rgba(0, 0, 0, 0.15);\n",
              "      filter: drop-shadow(0px 1px 2px rgba(0, 0, 0, 0.3));\n",
              "      fill: #FFFFFF;\n",
              "    }\n",
              "  </style>\n",
              "\n",
              "      <script>\n",
              "        const buttonEl =\n",
              "          document.querySelector('#df-895f4683-5666-4fc8-b068-7d7741b6757f button.colab-df-convert');\n",
              "        buttonEl.style.display =\n",
              "          google.colab.kernel.accessAllowed ? 'block' : 'none';\n",
              "\n",
              "        async function convertToInteractive(key) {\n",
              "          const element = document.querySelector('#df-895f4683-5666-4fc8-b068-7d7741b6757f');\n",
              "          const dataTable =\n",
              "            await google.colab.kernel.invokeFunction('convertToInteractive',\n",
              "                                                     [key], {});\n",
              "          if (!dataTable) return;\n",
              "\n",
              "          const docLinkHtml = 'Like what you see? Visit the ' +\n",
              "            '<a target=\"_blank\" href=https://colab.research.google.com/notebooks/data_table.ipynb>data table notebook</a>'\n",
              "            + ' to learn more about interactive tables.';\n",
              "          element.innerHTML = '';\n",
              "          dataTable['output_type'] = 'display_data';\n",
              "          await google.colab.output.renderOutput(dataTable, element);\n",
              "          const docLink = document.createElement('div');\n",
              "          docLink.innerHTML = docLinkHtml;\n",
              "          element.appendChild(docLink);\n",
              "        }\n",
              "      </script>\n",
              "    </div>\n",
              "  </div>\n",
              "  "
            ]
          },
          "metadata": {},
          "execution_count": 14
        }
      ]
    },
    {
      "cell_type": "code",
      "source": [
        "transac"
      ],
      "metadata": {
        "colab": {
          "base_uri": "https://localhost:8080/",
          "height": 363
        },
        "id": "ZtPyQ_BM7-7i",
        "outputId": "86384b60-47ac-4067-dc5b-2e40611dc0f3"
      },
      "execution_count": 15,
      "outputs": [
        {
          "output_type": "execute_result",
          "data": {
            "text/plain": [
              "   transaction_id  product_id  user_id  price product_description\n",
              "0         3300101     1000001      101    700               mouse\n",
              "1         3300102     1000002      102    900            keyboard\n",
              "2         3300103     1000003      103  34000                  tv\n",
              "3         3300104     1000004      101  35000              fridge\n",
              "4         3300105     1000005      105  55000                sofa\n",
              "5         3300106     1000006      106    100                 bed\n",
              "6         3300107     1000007      105  66000              laptop\n",
              "7         3300108     1000008      108  20000               phone\n",
              "8         3300109     1000009      101    500             speaker\n",
              "9         3300110     1000010      102   1000               chair"
            ],
            "text/html": [
              "\n",
              "  <div id=\"df-3eececf7-629b-419b-a963-9993569ecc1f\">\n",
              "    <div class=\"colab-df-container\">\n",
              "      <div>\n",
              "<style scoped>\n",
              "    .dataframe tbody tr th:only-of-type {\n",
              "        vertical-align: middle;\n",
              "    }\n",
              "\n",
              "    .dataframe tbody tr th {\n",
              "        vertical-align: top;\n",
              "    }\n",
              "\n",
              "    .dataframe thead th {\n",
              "        text-align: right;\n",
              "    }\n",
              "</style>\n",
              "<table border=\"1\" class=\"dataframe\">\n",
              "  <thead>\n",
              "    <tr style=\"text-align: right;\">\n",
              "      <th></th>\n",
              "      <th>transaction_id</th>\n",
              "      <th>product_id</th>\n",
              "      <th>user_id</th>\n",
              "      <th>price</th>\n",
              "      <th>product_description</th>\n",
              "    </tr>\n",
              "  </thead>\n",
              "  <tbody>\n",
              "    <tr>\n",
              "      <th>0</th>\n",
              "      <td>3300101</td>\n",
              "      <td>1000001</td>\n",
              "      <td>101</td>\n",
              "      <td>700</td>\n",
              "      <td>mouse</td>\n",
              "    </tr>\n",
              "    <tr>\n",
              "      <th>1</th>\n",
              "      <td>3300102</td>\n",
              "      <td>1000002</td>\n",
              "      <td>102</td>\n",
              "      <td>900</td>\n",
              "      <td>keyboard</td>\n",
              "    </tr>\n",
              "    <tr>\n",
              "      <th>2</th>\n",
              "      <td>3300103</td>\n",
              "      <td>1000003</td>\n",
              "      <td>103</td>\n",
              "      <td>34000</td>\n",
              "      <td>tv</td>\n",
              "    </tr>\n",
              "    <tr>\n",
              "      <th>3</th>\n",
              "      <td>3300104</td>\n",
              "      <td>1000004</td>\n",
              "      <td>101</td>\n",
              "      <td>35000</td>\n",
              "      <td>fridge</td>\n",
              "    </tr>\n",
              "    <tr>\n",
              "      <th>4</th>\n",
              "      <td>3300105</td>\n",
              "      <td>1000005</td>\n",
              "      <td>105</td>\n",
              "      <td>55000</td>\n",
              "      <td>sofa</td>\n",
              "    </tr>\n",
              "    <tr>\n",
              "      <th>5</th>\n",
              "      <td>3300106</td>\n",
              "      <td>1000006</td>\n",
              "      <td>106</td>\n",
              "      <td>100</td>\n",
              "      <td>bed</td>\n",
              "    </tr>\n",
              "    <tr>\n",
              "      <th>6</th>\n",
              "      <td>3300107</td>\n",
              "      <td>1000007</td>\n",
              "      <td>105</td>\n",
              "      <td>66000</td>\n",
              "      <td>laptop</td>\n",
              "    </tr>\n",
              "    <tr>\n",
              "      <th>7</th>\n",
              "      <td>3300108</td>\n",
              "      <td>1000008</td>\n",
              "      <td>108</td>\n",
              "      <td>20000</td>\n",
              "      <td>phone</td>\n",
              "    </tr>\n",
              "    <tr>\n",
              "      <th>8</th>\n",
              "      <td>3300109</td>\n",
              "      <td>1000009</td>\n",
              "      <td>101</td>\n",
              "      <td>500</td>\n",
              "      <td>speaker</td>\n",
              "    </tr>\n",
              "    <tr>\n",
              "      <th>9</th>\n",
              "      <td>3300110</td>\n",
              "      <td>1000010</td>\n",
              "      <td>102</td>\n",
              "      <td>1000</td>\n",
              "      <td>chair</td>\n",
              "    </tr>\n",
              "  </tbody>\n",
              "</table>\n",
              "</div>\n",
              "      <button class=\"colab-df-convert\" onclick=\"convertToInteractive('df-3eececf7-629b-419b-a963-9993569ecc1f')\"\n",
              "              title=\"Convert this dataframe to an interactive table.\"\n",
              "              style=\"display:none;\">\n",
              "        \n",
              "  <svg xmlns=\"http://www.w3.org/2000/svg\" height=\"24px\"viewBox=\"0 0 24 24\"\n",
              "       width=\"24px\">\n",
              "    <path d=\"M0 0h24v24H0V0z\" fill=\"none\"/>\n",
              "    <path d=\"M18.56 5.44l.94 2.06.94-2.06 2.06-.94-2.06-.94-.94-2.06-.94 2.06-2.06.94zm-11 1L8.5 8.5l.94-2.06 2.06-.94-2.06-.94L8.5 2.5l-.94 2.06-2.06.94zm10 10l.94 2.06.94-2.06 2.06-.94-2.06-.94-.94-2.06-.94 2.06-2.06.94z\"/><path d=\"M17.41 7.96l-1.37-1.37c-.4-.4-.92-.59-1.43-.59-.52 0-1.04.2-1.43.59L10.3 9.45l-7.72 7.72c-.78.78-.78 2.05 0 2.83L4 21.41c.39.39.9.59 1.41.59.51 0 1.02-.2 1.41-.59l7.78-7.78 2.81-2.81c.8-.78.8-2.07 0-2.86zM5.41 20L4 18.59l7.72-7.72 1.47 1.35L5.41 20z\"/>\n",
              "  </svg>\n",
              "      </button>\n",
              "      \n",
              "  <style>\n",
              "    .colab-df-container {\n",
              "      display:flex;\n",
              "      flex-wrap:wrap;\n",
              "      gap: 12px;\n",
              "    }\n",
              "\n",
              "    .colab-df-convert {\n",
              "      background-color: #E8F0FE;\n",
              "      border: none;\n",
              "      border-radius: 50%;\n",
              "      cursor: pointer;\n",
              "      display: none;\n",
              "      fill: #1967D2;\n",
              "      height: 32px;\n",
              "      padding: 0 0 0 0;\n",
              "      width: 32px;\n",
              "    }\n",
              "\n",
              "    .colab-df-convert:hover {\n",
              "      background-color: #E2EBFA;\n",
              "      box-shadow: 0px 1px 2px rgba(60, 64, 67, 0.3), 0px 1px 3px 1px rgba(60, 64, 67, 0.15);\n",
              "      fill: #174EA6;\n",
              "    }\n",
              "\n",
              "    [theme=dark] .colab-df-convert {\n",
              "      background-color: #3B4455;\n",
              "      fill: #D2E3FC;\n",
              "    }\n",
              "\n",
              "    [theme=dark] .colab-df-convert:hover {\n",
              "      background-color: #434B5C;\n",
              "      box-shadow: 0px 1px 3px 1px rgba(0, 0, 0, 0.15);\n",
              "      filter: drop-shadow(0px 1px 2px rgba(0, 0, 0, 0.3));\n",
              "      fill: #FFFFFF;\n",
              "    }\n",
              "  </style>\n",
              "\n",
              "      <script>\n",
              "        const buttonEl =\n",
              "          document.querySelector('#df-3eececf7-629b-419b-a963-9993569ecc1f button.colab-df-convert');\n",
              "        buttonEl.style.display =\n",
              "          google.colab.kernel.accessAllowed ? 'block' : 'none';\n",
              "\n",
              "        async function convertToInteractive(key) {\n",
              "          const element = document.querySelector('#df-3eececf7-629b-419b-a963-9993569ecc1f');\n",
              "          const dataTable =\n",
              "            await google.colab.kernel.invokeFunction('convertToInteractive',\n",
              "                                                     [key], {});\n",
              "          if (!dataTable) return;\n",
              "\n",
              "          const docLinkHtml = 'Like what you see? Visit the ' +\n",
              "            '<a target=\"_blank\" href=https://colab.research.google.com/notebooks/data_table.ipynb>data table notebook</a>'\n",
              "            + ' to learn more about interactive tables.';\n",
              "          element.innerHTML = '';\n",
              "          dataTable['output_type'] = 'display_data';\n",
              "          await google.colab.output.renderOutput(dataTable, element);\n",
              "          const docLink = document.createElement('div');\n",
              "          docLink.innerHTML = docLinkHtml;\n",
              "          element.appendChild(docLink);\n",
              "        }\n",
              "      </script>\n",
              "    </div>\n",
              "  </div>\n",
              "  "
            ]
          },
          "metadata": {},
          "execution_count": 15
        }
      ]
    },
    {
      "cell_type": "code",
      "source": [
        "user"
      ],
      "metadata": {
        "colab": {
          "base_uri": "https://localhost:8080/",
          "height": 363
        },
        "id": "0Ge0yasE88Q7",
        "outputId": "3a3838bf-71f3-4bee-a0de-72d958bed24b"
      },
      "execution_count": 16,
      "outputs": [
        {
          "output_type": "execute_result",
          "data": {
            "text/plain": [
              "   user_id               emailid nativelanguage location \n",
              "0      101     abc.123@gmail.com          hindi    mumbai\n",
              "1      102        jhon@gmail.com        english       usa\n",
              "2      103    madan.44@gmail.com        marathi    nagpur\n",
              "3      104  local.88@outlook.com          tamil   chennai\n",
              "4      105    sahil.55@gmail.com        english       usa\n",
              "5      106         adi@gmail.com          hindi    nagpur\n",
              "6      107       jason@gmail.com        marathi    mumbai\n",
              "7      108       sohan@gmail.com         kannad       usa\n",
              "8      109      case@outlook.com          tamil    mumbai\n",
              "9      110        fury@gmail.com          hindi    nagpur"
            ],
            "text/html": [
              "\n",
              "  <div id=\"df-c04d6564-12f0-40f1-aa8b-5c672a917033\">\n",
              "    <div class=\"colab-df-container\">\n",
              "      <div>\n",
              "<style scoped>\n",
              "    .dataframe tbody tr th:only-of-type {\n",
              "        vertical-align: middle;\n",
              "    }\n",
              "\n",
              "    .dataframe tbody tr th {\n",
              "        vertical-align: top;\n",
              "    }\n",
              "\n",
              "    .dataframe thead th {\n",
              "        text-align: right;\n",
              "    }\n",
              "</style>\n",
              "<table border=\"1\" class=\"dataframe\">\n",
              "  <thead>\n",
              "    <tr style=\"text-align: right;\">\n",
              "      <th></th>\n",
              "      <th>user_id</th>\n",
              "      <th>emailid</th>\n",
              "      <th>nativelanguage</th>\n",
              "      <th>location</th>\n",
              "    </tr>\n",
              "  </thead>\n",
              "  <tbody>\n",
              "    <tr>\n",
              "      <th>0</th>\n",
              "      <td>101</td>\n",
              "      <td>abc.123@gmail.com</td>\n",
              "      <td>hindi</td>\n",
              "      <td>mumbai</td>\n",
              "    </tr>\n",
              "    <tr>\n",
              "      <th>1</th>\n",
              "      <td>102</td>\n",
              "      <td>jhon@gmail.com</td>\n",
              "      <td>english</td>\n",
              "      <td>usa</td>\n",
              "    </tr>\n",
              "    <tr>\n",
              "      <th>2</th>\n",
              "      <td>103</td>\n",
              "      <td>madan.44@gmail.com</td>\n",
              "      <td>marathi</td>\n",
              "      <td>nagpur</td>\n",
              "    </tr>\n",
              "    <tr>\n",
              "      <th>3</th>\n",
              "      <td>104</td>\n",
              "      <td>local.88@outlook.com</td>\n",
              "      <td>tamil</td>\n",
              "      <td>chennai</td>\n",
              "    </tr>\n",
              "    <tr>\n",
              "      <th>4</th>\n",
              "      <td>105</td>\n",
              "      <td>sahil.55@gmail.com</td>\n",
              "      <td>english</td>\n",
              "      <td>usa</td>\n",
              "    </tr>\n",
              "    <tr>\n",
              "      <th>5</th>\n",
              "      <td>106</td>\n",
              "      <td>adi@gmail.com</td>\n",
              "      <td>hindi</td>\n",
              "      <td>nagpur</td>\n",
              "    </tr>\n",
              "    <tr>\n",
              "      <th>6</th>\n",
              "      <td>107</td>\n",
              "      <td>jason@gmail.com</td>\n",
              "      <td>marathi</td>\n",
              "      <td>mumbai</td>\n",
              "    </tr>\n",
              "    <tr>\n",
              "      <th>7</th>\n",
              "      <td>108</td>\n",
              "      <td>sohan@gmail.com</td>\n",
              "      <td>kannad</td>\n",
              "      <td>usa</td>\n",
              "    </tr>\n",
              "    <tr>\n",
              "      <th>8</th>\n",
              "      <td>109</td>\n",
              "      <td>case@outlook.com</td>\n",
              "      <td>tamil</td>\n",
              "      <td>mumbai</td>\n",
              "    </tr>\n",
              "    <tr>\n",
              "      <th>9</th>\n",
              "      <td>110</td>\n",
              "      <td>fury@gmail.com</td>\n",
              "      <td>hindi</td>\n",
              "      <td>nagpur</td>\n",
              "    </tr>\n",
              "  </tbody>\n",
              "</table>\n",
              "</div>\n",
              "      <button class=\"colab-df-convert\" onclick=\"convertToInteractive('df-c04d6564-12f0-40f1-aa8b-5c672a917033')\"\n",
              "              title=\"Convert this dataframe to an interactive table.\"\n",
              "              style=\"display:none;\">\n",
              "        \n",
              "  <svg xmlns=\"http://www.w3.org/2000/svg\" height=\"24px\"viewBox=\"0 0 24 24\"\n",
              "       width=\"24px\">\n",
              "    <path d=\"M0 0h24v24H0V0z\" fill=\"none\"/>\n",
              "    <path d=\"M18.56 5.44l.94 2.06.94-2.06 2.06-.94-2.06-.94-.94-2.06-.94 2.06-2.06.94zm-11 1L8.5 8.5l.94-2.06 2.06-.94-2.06-.94L8.5 2.5l-.94 2.06-2.06.94zm10 10l.94 2.06.94-2.06 2.06-.94-2.06-.94-.94-2.06-.94 2.06-2.06.94z\"/><path d=\"M17.41 7.96l-1.37-1.37c-.4-.4-.92-.59-1.43-.59-.52 0-1.04.2-1.43.59L10.3 9.45l-7.72 7.72c-.78.78-.78 2.05 0 2.83L4 21.41c.39.39.9.59 1.41.59.51 0 1.02-.2 1.41-.59l7.78-7.78 2.81-2.81c.8-.78.8-2.07 0-2.86zM5.41 20L4 18.59l7.72-7.72 1.47 1.35L5.41 20z\"/>\n",
              "  </svg>\n",
              "      </button>\n",
              "      \n",
              "  <style>\n",
              "    .colab-df-container {\n",
              "      display:flex;\n",
              "      flex-wrap:wrap;\n",
              "      gap: 12px;\n",
              "    }\n",
              "\n",
              "    .colab-df-convert {\n",
              "      background-color: #E8F0FE;\n",
              "      border: none;\n",
              "      border-radius: 50%;\n",
              "      cursor: pointer;\n",
              "      display: none;\n",
              "      fill: #1967D2;\n",
              "      height: 32px;\n",
              "      padding: 0 0 0 0;\n",
              "      width: 32px;\n",
              "    }\n",
              "\n",
              "    .colab-df-convert:hover {\n",
              "      background-color: #E2EBFA;\n",
              "      box-shadow: 0px 1px 2px rgba(60, 64, 67, 0.3), 0px 1px 3px 1px rgba(60, 64, 67, 0.15);\n",
              "      fill: #174EA6;\n",
              "    }\n",
              "\n",
              "    [theme=dark] .colab-df-convert {\n",
              "      background-color: #3B4455;\n",
              "      fill: #D2E3FC;\n",
              "    }\n",
              "\n",
              "    [theme=dark] .colab-df-convert:hover {\n",
              "      background-color: #434B5C;\n",
              "      box-shadow: 0px 1px 3px 1px rgba(0, 0, 0, 0.15);\n",
              "      filter: drop-shadow(0px 1px 2px rgba(0, 0, 0, 0.3));\n",
              "      fill: #FFFFFF;\n",
              "    }\n",
              "  </style>\n",
              "\n",
              "      <script>\n",
              "        const buttonEl =\n",
              "          document.querySelector('#df-c04d6564-12f0-40f1-aa8b-5c672a917033 button.colab-df-convert');\n",
              "        buttonEl.style.display =\n",
              "          google.colab.kernel.accessAllowed ? 'block' : 'none';\n",
              "\n",
              "        async function convertToInteractive(key) {\n",
              "          const element = document.querySelector('#df-c04d6564-12f0-40f1-aa8b-5c672a917033');\n",
              "          const dataTable =\n",
              "            await google.colab.kernel.invokeFunction('convertToInteractive',\n",
              "                                                     [key], {});\n",
              "          if (!dataTable) return;\n",
              "\n",
              "          const docLinkHtml = 'Like what you see? Visit the ' +\n",
              "            '<a target=\"_blank\" href=https://colab.research.google.com/notebooks/data_table.ipynb>data table notebook</a>'\n",
              "            + ' to learn more about interactive tables.';\n",
              "          element.innerHTML = '';\n",
              "          dataTable['output_type'] = 'display_data';\n",
              "          await google.colab.output.renderOutput(dataTable, element);\n",
              "          const docLink = document.createElement('div');\n",
              "          docLink.innerHTML = docLinkHtml;\n",
              "          element.appendChild(docLink);\n",
              "        }\n",
              "      </script>\n",
              "    </div>\n",
              "  </div>\n",
              "  "
            ]
          },
          "metadata": {},
          "execution_count": 16
        }
      ]
    },
    {
      "cell_type": "code",
      "source": [
        "outer = pd.merge(transac, user, on='user_id', how='outer')"
      ],
      "metadata": {
        "id": "iZrfAkuJ88iq"
      },
      "execution_count": 24,
      "outputs": []
    },
    {
      "cell_type": "code",
      "source": [
        "pd.merge(transac, user, on='user_id', how='inner')"
      ],
      "metadata": {
        "colab": {
          "base_uri": "https://localhost:8080/",
          "height": 363
        },
        "id": "2dj1Ot9U9Cjy",
        "outputId": "b55448fc-e80d-41c7-b6b3-18a8286bf9c3"
      },
      "execution_count": 23,
      "outputs": [
        {
          "output_type": "execute_result",
          "data": {
            "text/plain": [
              "   transaction_id  product_id  user_id  price product_description  \\\n",
              "0         3300101     1000001      101    700               mouse   \n",
              "1         3300104     1000004      101  35000              fridge   \n",
              "2         3300109     1000009      101    500             speaker   \n",
              "3         3300102     1000002      102    900            keyboard   \n",
              "4         3300110     1000010      102   1000               chair   \n",
              "5         3300103     1000003      103  34000                  tv   \n",
              "6         3300105     1000005      105  55000                sofa   \n",
              "7         3300107     1000007      105  66000              laptop   \n",
              "8         3300106     1000006      106    100                 bed   \n",
              "9         3300108     1000008      108  20000               phone   \n",
              "\n",
              "              emailid nativelanguage location   \n",
              "0   abc.123@gmail.com          hindi    mumbai  \n",
              "1   abc.123@gmail.com          hindi    mumbai  \n",
              "2   abc.123@gmail.com          hindi    mumbai  \n",
              "3      jhon@gmail.com        english       usa  \n",
              "4      jhon@gmail.com        english       usa  \n",
              "5  madan.44@gmail.com        marathi    nagpur  \n",
              "6  sahil.55@gmail.com        english       usa  \n",
              "7  sahil.55@gmail.com        english       usa  \n",
              "8       adi@gmail.com          hindi    nagpur  \n",
              "9     sohan@gmail.com         kannad       usa  "
            ],
            "text/html": [
              "\n",
              "  <div id=\"df-8d48c58e-ea1a-45e1-ad40-9af096b34868\">\n",
              "    <div class=\"colab-df-container\">\n",
              "      <div>\n",
              "<style scoped>\n",
              "    .dataframe tbody tr th:only-of-type {\n",
              "        vertical-align: middle;\n",
              "    }\n",
              "\n",
              "    .dataframe tbody tr th {\n",
              "        vertical-align: top;\n",
              "    }\n",
              "\n",
              "    .dataframe thead th {\n",
              "        text-align: right;\n",
              "    }\n",
              "</style>\n",
              "<table border=\"1\" class=\"dataframe\">\n",
              "  <thead>\n",
              "    <tr style=\"text-align: right;\">\n",
              "      <th></th>\n",
              "      <th>transaction_id</th>\n",
              "      <th>product_id</th>\n",
              "      <th>user_id</th>\n",
              "      <th>price</th>\n",
              "      <th>product_description</th>\n",
              "      <th>emailid</th>\n",
              "      <th>nativelanguage</th>\n",
              "      <th>location</th>\n",
              "    </tr>\n",
              "  </thead>\n",
              "  <tbody>\n",
              "    <tr>\n",
              "      <th>0</th>\n",
              "      <td>3300101</td>\n",
              "      <td>1000001</td>\n",
              "      <td>101</td>\n",
              "      <td>700</td>\n",
              "      <td>mouse</td>\n",
              "      <td>abc.123@gmail.com</td>\n",
              "      <td>hindi</td>\n",
              "      <td>mumbai</td>\n",
              "    </tr>\n",
              "    <tr>\n",
              "      <th>1</th>\n",
              "      <td>3300104</td>\n",
              "      <td>1000004</td>\n",
              "      <td>101</td>\n",
              "      <td>35000</td>\n",
              "      <td>fridge</td>\n",
              "      <td>abc.123@gmail.com</td>\n",
              "      <td>hindi</td>\n",
              "      <td>mumbai</td>\n",
              "    </tr>\n",
              "    <tr>\n",
              "      <th>2</th>\n",
              "      <td>3300109</td>\n",
              "      <td>1000009</td>\n",
              "      <td>101</td>\n",
              "      <td>500</td>\n",
              "      <td>speaker</td>\n",
              "      <td>abc.123@gmail.com</td>\n",
              "      <td>hindi</td>\n",
              "      <td>mumbai</td>\n",
              "    </tr>\n",
              "    <tr>\n",
              "      <th>3</th>\n",
              "      <td>3300102</td>\n",
              "      <td>1000002</td>\n",
              "      <td>102</td>\n",
              "      <td>900</td>\n",
              "      <td>keyboard</td>\n",
              "      <td>jhon@gmail.com</td>\n",
              "      <td>english</td>\n",
              "      <td>usa</td>\n",
              "    </tr>\n",
              "    <tr>\n",
              "      <th>4</th>\n",
              "      <td>3300110</td>\n",
              "      <td>1000010</td>\n",
              "      <td>102</td>\n",
              "      <td>1000</td>\n",
              "      <td>chair</td>\n",
              "      <td>jhon@gmail.com</td>\n",
              "      <td>english</td>\n",
              "      <td>usa</td>\n",
              "    </tr>\n",
              "    <tr>\n",
              "      <th>5</th>\n",
              "      <td>3300103</td>\n",
              "      <td>1000003</td>\n",
              "      <td>103</td>\n",
              "      <td>34000</td>\n",
              "      <td>tv</td>\n",
              "      <td>madan.44@gmail.com</td>\n",
              "      <td>marathi</td>\n",
              "      <td>nagpur</td>\n",
              "    </tr>\n",
              "    <tr>\n",
              "      <th>6</th>\n",
              "      <td>3300105</td>\n",
              "      <td>1000005</td>\n",
              "      <td>105</td>\n",
              "      <td>55000</td>\n",
              "      <td>sofa</td>\n",
              "      <td>sahil.55@gmail.com</td>\n",
              "      <td>english</td>\n",
              "      <td>usa</td>\n",
              "    </tr>\n",
              "    <tr>\n",
              "      <th>7</th>\n",
              "      <td>3300107</td>\n",
              "      <td>1000007</td>\n",
              "      <td>105</td>\n",
              "      <td>66000</td>\n",
              "      <td>laptop</td>\n",
              "      <td>sahil.55@gmail.com</td>\n",
              "      <td>english</td>\n",
              "      <td>usa</td>\n",
              "    </tr>\n",
              "    <tr>\n",
              "      <th>8</th>\n",
              "      <td>3300106</td>\n",
              "      <td>1000006</td>\n",
              "      <td>106</td>\n",
              "      <td>100</td>\n",
              "      <td>bed</td>\n",
              "      <td>adi@gmail.com</td>\n",
              "      <td>hindi</td>\n",
              "      <td>nagpur</td>\n",
              "    </tr>\n",
              "    <tr>\n",
              "      <th>9</th>\n",
              "      <td>3300108</td>\n",
              "      <td>1000008</td>\n",
              "      <td>108</td>\n",
              "      <td>20000</td>\n",
              "      <td>phone</td>\n",
              "      <td>sohan@gmail.com</td>\n",
              "      <td>kannad</td>\n",
              "      <td>usa</td>\n",
              "    </tr>\n",
              "  </tbody>\n",
              "</table>\n",
              "</div>\n",
              "      <button class=\"colab-df-convert\" onclick=\"convertToInteractive('df-8d48c58e-ea1a-45e1-ad40-9af096b34868')\"\n",
              "              title=\"Convert this dataframe to an interactive table.\"\n",
              "              style=\"display:none;\">\n",
              "        \n",
              "  <svg xmlns=\"http://www.w3.org/2000/svg\" height=\"24px\"viewBox=\"0 0 24 24\"\n",
              "       width=\"24px\">\n",
              "    <path d=\"M0 0h24v24H0V0z\" fill=\"none\"/>\n",
              "    <path d=\"M18.56 5.44l.94 2.06.94-2.06 2.06-.94-2.06-.94-.94-2.06-.94 2.06-2.06.94zm-11 1L8.5 8.5l.94-2.06 2.06-.94-2.06-.94L8.5 2.5l-.94 2.06-2.06.94zm10 10l.94 2.06.94-2.06 2.06-.94-2.06-.94-.94-2.06-.94 2.06-2.06.94z\"/><path d=\"M17.41 7.96l-1.37-1.37c-.4-.4-.92-.59-1.43-.59-.52 0-1.04.2-1.43.59L10.3 9.45l-7.72 7.72c-.78.78-.78 2.05 0 2.83L4 21.41c.39.39.9.59 1.41.59.51 0 1.02-.2 1.41-.59l7.78-7.78 2.81-2.81c.8-.78.8-2.07 0-2.86zM5.41 20L4 18.59l7.72-7.72 1.47 1.35L5.41 20z\"/>\n",
              "  </svg>\n",
              "      </button>\n",
              "      \n",
              "  <style>\n",
              "    .colab-df-container {\n",
              "      display:flex;\n",
              "      flex-wrap:wrap;\n",
              "      gap: 12px;\n",
              "    }\n",
              "\n",
              "    .colab-df-convert {\n",
              "      background-color: #E8F0FE;\n",
              "      border: none;\n",
              "      border-radius: 50%;\n",
              "      cursor: pointer;\n",
              "      display: none;\n",
              "      fill: #1967D2;\n",
              "      height: 32px;\n",
              "      padding: 0 0 0 0;\n",
              "      width: 32px;\n",
              "    }\n",
              "\n",
              "    .colab-df-convert:hover {\n",
              "      background-color: #E2EBFA;\n",
              "      box-shadow: 0px 1px 2px rgba(60, 64, 67, 0.3), 0px 1px 3px 1px rgba(60, 64, 67, 0.15);\n",
              "      fill: #174EA6;\n",
              "    }\n",
              "\n",
              "    [theme=dark] .colab-df-convert {\n",
              "      background-color: #3B4455;\n",
              "      fill: #D2E3FC;\n",
              "    }\n",
              "\n",
              "    [theme=dark] .colab-df-convert:hover {\n",
              "      background-color: #434B5C;\n",
              "      box-shadow: 0px 1px 3px 1px rgba(0, 0, 0, 0.15);\n",
              "      filter: drop-shadow(0px 1px 2px rgba(0, 0, 0, 0.3));\n",
              "      fill: #FFFFFF;\n",
              "    }\n",
              "  </style>\n",
              "\n",
              "      <script>\n",
              "        const buttonEl =\n",
              "          document.querySelector('#df-8d48c58e-ea1a-45e1-ad40-9af096b34868 button.colab-df-convert');\n",
              "        buttonEl.style.display =\n",
              "          google.colab.kernel.accessAllowed ? 'block' : 'none';\n",
              "\n",
              "        async function convertToInteractive(key) {\n",
              "          const element = document.querySelector('#df-8d48c58e-ea1a-45e1-ad40-9af096b34868');\n",
              "          const dataTable =\n",
              "            await google.colab.kernel.invokeFunction('convertToInteractive',\n",
              "                                                     [key], {});\n",
              "          if (!dataTable) return;\n",
              "\n",
              "          const docLinkHtml = 'Like what you see? Visit the ' +\n",
              "            '<a target=\"_blank\" href=https://colab.research.google.com/notebooks/data_table.ipynb>data table notebook</a>'\n",
              "            + ' to learn more about interactive tables.';\n",
              "          element.innerHTML = '';\n",
              "          dataTable['output_type'] = 'display_data';\n",
              "          await google.colab.output.renderOutput(dataTable, element);\n",
              "          const docLink = document.createElement('div');\n",
              "          docLink.innerHTML = docLinkHtml;\n",
              "          element.appendChild(docLink);\n",
              "        }\n",
              "      </script>\n",
              "    </div>\n",
              "  </div>\n",
              "  "
            ]
          },
          "metadata": {},
          "execution_count": 23
        }
      ]
    },
    {
      "cell_type": "code",
      "source": [
        "outer = pd.DataFrame(outer)"
      ],
      "metadata": {
        "id": "1ru-qXPP9G7B"
      },
      "execution_count": 31,
      "outputs": []
    },
    {
      "cell_type": "code",
      "source": [
        "outer.columns"
      ],
      "metadata": {
        "colab": {
          "base_uri": "https://localhost:8080/"
        },
        "id": "CxiZzhr8_QcO",
        "outputId": "73884d09-7cda-47b7-8dff-ce8c8abaf104"
      },
      "execution_count": 34,
      "outputs": [
        {
          "output_type": "execute_result",
          "data": {
            "text/plain": [
              "Index(['transaction_id', 'product_id', 'user_id', 'price',\n",
              "       'product_description', 'emailid', 'nativelanguage', 'location '],\n",
              "      dtype='object')"
            ]
          },
          "metadata": {},
          "execution_count": 34
        }
      ]
    },
    {
      "cell_type": "code",
      "source": [
        "df.csv('other_.csv')"
      ],
      "metadata": {
        "colab": {
          "base_uri": "https://localhost:8080/"
        },
        "id": "lsnH8IbJ_0qT",
        "outputId": "e6285a93-5b8e-4dce-c3aa-8f69a9dd56da"
      },
      "execution_count": 36,
      "outputs": [
        {
          "output_type": "execute_result",
          "data": {
            "text/plain": [
              "0      mumbai\n",
              "1      mumbai\n",
              "2      mumbai\n",
              "3         usa\n",
              "4         usa\n",
              "5      nagpur\n",
              "6         usa\n",
              "7         usa\n",
              "8      nagpur\n",
              "9         usa\n",
              "10    chennai\n",
              "11     mumbai\n",
              "12     mumbai\n",
              "13     nagpur\n",
              "Name: location , dtype: object"
            ]
          },
          "metadata": {},
          "execution_count": 36
        }
      ]
    },
    {
      "cell_type": "code",
      "source": [
        "outer.to_csv('outer_join.csv')"
      ],
      "metadata": {
        "id": "u4vBBVtr_-wv"
      },
      "execution_count": 39,
      "outputs": []
    },
    {
      "cell_type": "code",
      "source": [
        "from pyspark.sql import SparkSession\n",
        "\n",
        "spark = SparkSession.builder.appName(\"Python Spark SQL basic example\").config(\"spark.some.config.option\", \"some-value\").getOrCreate()"
      ],
      "metadata": {
        "id": "HZQ1yQP6AMN2"
      },
      "execution_count": 49,
      "outputs": []
    },
    {
      "cell_type": "code",
      "source": [
        "df = spark.read.csv('outer_join.csv')"
      ],
      "metadata": {
        "id": "JTa-4u5lByhh"
      },
      "execution_count": 53,
      "outputs": []
    },
    {
      "cell_type": "code",
      "source": [
        "df.show()"
      ],
      "metadata": {
        "colab": {
          "base_uri": "https://localhost:8080/"
        },
        "id": "un2960tdDFSe",
        "outputId": "e0dfdbfc-4264-4440-d1ad-230fd42e2ce3"
      },
      "execution_count": 54,
      "outputs": [
        {
          "output_type": "execute_result",
          "data": {
            "text/plain": [
              "<bound method DataFrame.show of DataFrame[_c0: string, _c1: string, _c2: string, _c3: string, _c4: string, _c5: string, _c6: string, _c7: string, _c8: string]>"
            ]
          },
          "metadata": {},
          "execution_count": 54
        }
      ]
    },
    {
      "cell_type": "code",
      "source": [
        "final = spark.read.option('inferSchema' , True).option('header', True).csv('outer_join.csv')"
      ],
      "metadata": {
        "id": "29Gjuls6DGQE"
      },
      "execution_count": 62,
      "outputs": []
    },
    {
      "cell_type": "code",
      "source": [
        "final.show()"
      ],
      "metadata": {
        "colab": {
          "base_uri": "https://localhost:8080/"
        },
        "id": "lVo77uyDDTM5",
        "outputId": "457bdd1b-6835-4b5b-c283-900ab76c17a5"
      },
      "execution_count": 63,
      "outputs": [
        {
          "output_type": "stream",
          "name": "stdout",
          "text": [
            "+---+--------------+----------+-------+-------+-------------------+--------------------+--------------+---------+\n",
            "|_c0|transaction_id|product_id|user_id|  price|product_description|             emailid|nativelanguage|location |\n",
            "+---+--------------+----------+-------+-------+-------------------+--------------------+--------------+---------+\n",
            "|  0|     3300101.0| 1000001.0|    101|  700.0|              mouse|   abc.123@gmail.com|         hindi|   mumbai|\n",
            "|  1|     3300104.0| 1000004.0|    101|35000.0|             fridge|   abc.123@gmail.com|         hindi|   mumbai|\n",
            "|  2|     3300109.0| 1000009.0|    101|  500.0|            speaker|   abc.123@gmail.com|         hindi|   mumbai|\n",
            "|  3|     3300102.0| 1000002.0|    102|  900.0|           keyboard|      jhon@gmail.com|       english|      usa|\n",
            "|  4|     3300110.0| 1000010.0|    102| 1000.0|              chair|      jhon@gmail.com|       english|      usa|\n",
            "|  5|     3300103.0| 1000003.0|    103|34000.0|                 tv|  madan.44@gmail.com|       marathi|   nagpur|\n",
            "|  6|     3300105.0| 1000005.0|    105|55000.0|               sofa|  sahil.55@gmail.com|       english|      usa|\n",
            "|  7|     3300107.0| 1000007.0|    105|66000.0|             laptop|  sahil.55@gmail.com|       english|      usa|\n",
            "|  8|     3300106.0| 1000006.0|    106|  100.0|                bed|       adi@gmail.com|         hindi|   nagpur|\n",
            "|  9|     3300108.0| 1000008.0|    108|20000.0|              phone|     sohan@gmail.com|        kannad|      usa|\n",
            "| 10|          null|      null|    104|   null|               null|local.88@outlook.com|         tamil|  chennai|\n",
            "| 11|          null|      null|    107|   null|               null|     jason@gmail.com|       marathi|   mumbai|\n",
            "| 12|          null|      null|    109|   null|               null|    case@outlook.com|         tamil|   mumbai|\n",
            "| 13|          null|      null|    110|   null|               null|      fury@gmail.com|         hindi|   nagpur|\n",
            "+---+--------------+----------+-------+-------+-------------------+--------------------+--------------+---------+\n",
            "\n"
          ]
        }
      ]
    },
    {
      "cell_type": "code",
      "source": [
        "final.printSchema()"
      ],
      "metadata": {
        "colab": {
          "base_uri": "https://localhost:8080/"
        },
        "id": "9PYx1EbNEQ1X",
        "outputId": "fdde775e-ed68-4324-c8f4-3befd615b79d"
      },
      "execution_count": 64,
      "outputs": [
        {
          "output_type": "stream",
          "name": "stdout",
          "text": [
            "root\n",
            " |-- _c0: integer (nullable = true)\n",
            " |-- transaction_id: double (nullable = true)\n",
            " |-- product_id: double (nullable = true)\n",
            " |-- user_id: integer (nullable = true)\n",
            " |-- price: double (nullable = true)\n",
            " |-- product_description: string (nullable = true)\n",
            " |-- emailid: string (nullable = true)\n",
            " |-- nativelanguage: string (nullable = true)\n",
            " |-- location : string (nullable = true)\n",
            "\n"
          ]
        }
      ]
    },
    {
      "cell_type": "code",
      "source": [
        "final"
      ],
      "metadata": {
        "colab": {
          "base_uri": "https://localhost:8080/"
        },
        "id": "iRR_C6fJETeN",
        "outputId": "8a75f7d1-7649-4201-95c5-8995a94c8f11"
      },
      "execution_count": 67,
      "outputs": [
        {
          "output_type": "execute_result",
          "data": {
            "text/plain": [
              "DataFrame[_c0: int, transaction_id: double, product_id: double, user_id: int, price: double, product_description: string, emailid: string, nativelanguage: string, location : string]"
            ]
          },
          "metadata": {},
          "execution_count": 67
        }
      ]
    },
    {
      "cell_type": "code",
      "source": [
        "final.select('location ')"
      ],
      "metadata": {
        "colab": {
          "base_uri": "https://localhost:8080/"
        },
        "id": "znUqIwPrFN3k",
        "outputId": "3687c271-dabf-4e0b-e281-3074a4e49cc0"
      },
      "execution_count": 68,
      "outputs": [
        {
          "output_type": "execute_result",
          "data": {
            "text/plain": [
              "DataFrame[location : string]"
            ]
          },
          "metadata": {},
          "execution_count": 68
        }
      ]
    },
    {
      "cell_type": "code",
      "source": [
        "final.groupby('location ').count().show()"
      ],
      "metadata": {
        "colab": {
          "base_uri": "https://localhost:8080/"
        },
        "id": "Ui2GwxIpI_Mt",
        "outputId": "3e170d73-5327-44ec-bfed-2bc94adb8377"
      },
      "execution_count": 71,
      "outputs": [
        {
          "output_type": "execute_result",
          "data": {
            "text/plain": [
              "DataFrame[location : string, count: bigint]"
            ]
          },
          "metadata": {},
          "execution_count": 71
        }
      ]
    },
    {
      "cell_type": "code",
      "source": [
        "final = spark.read.csv('outer_join.csv' , inferSchema=True, header=True)"
      ],
      "metadata": {
        "id": "JWheb32tJknY"
      },
      "execution_count": 76,
      "outputs": []
    },
    {
      "cell_type": "code",
      "source": [
        "final"
      ],
      "metadata": {
        "colab": {
          "base_uri": "https://localhost:8080/"
        },
        "id": "gBa53ZjEYzsK",
        "outputId": "a66e5b5c-2e22-44fe-f71f-af7e59d0c03e"
      },
      "execution_count": 77,
      "outputs": [
        {
          "output_type": "execute_result",
          "data": {
            "text/plain": [
              "DataFrame[_c0: int, transaction_id: double, product_id: double, user_id: int, price: double, product_description: string, emailid: string, nativelanguage: string, location : string]"
            ]
          },
          "metadata": {},
          "execution_count": 77
        }
      ]
    },
    {
      "cell_type": "code",
      "source": [
        "final.columns"
      ],
      "metadata": {
        "colab": {
          "base_uri": "https://localhost:8080/"
        },
        "id": "VnVDhfuOZBct",
        "outputId": "9806805e-c0e0-4d56-e3fa-6df2239810f6"
      },
      "execution_count": 78,
      "outputs": [
        {
          "output_type": "execute_result",
          "data": {
            "text/plain": [
              "['_c0',\n",
              " 'transaction_id',\n",
              " 'product_id',\n",
              " 'user_id',\n",
              " 'price',\n",
              " 'product_description',\n",
              " 'emailid',\n",
              " 'nativelanguage',\n",
              " 'location ']"
            ]
          },
          "metadata": {},
          "execution_count": 78
        }
      ]
    },
    {
      "cell_type": "code",
      "source": [
        "final.printSchema()"
      ],
      "metadata": {
        "colab": {
          "base_uri": "https://localhost:8080/"
        },
        "id": "IWFzxbYuZSu6",
        "outputId": "985042a8-81f5-4f7e-b830-334142aab00b"
      },
      "execution_count": 79,
      "outputs": [
        {
          "output_type": "stream",
          "name": "stdout",
          "text": [
            "root\n",
            " |-- _c0: integer (nullable = true)\n",
            " |-- transaction_id: double (nullable = true)\n",
            " |-- product_id: double (nullable = true)\n",
            " |-- user_id: integer (nullable = true)\n",
            " |-- price: double (nullable = true)\n",
            " |-- product_description: string (nullable = true)\n",
            " |-- emailid: string (nullable = true)\n",
            " |-- nativelanguage: string (nullable = true)\n",
            " |-- location : string (nullable = true)\n",
            "\n"
          ]
        }
      ]
    },
    {
      "cell_type": "code",
      "source": [
        "for i in final.head(5):\n",
        "  print(i, '\\n')"
      ],
      "metadata": {
        "colab": {
          "base_uri": "https://localhost:8080/"
        },
        "id": "t3vUPKjcZXO8",
        "outputId": "b32ea1a3-b45a-4a2a-8801-54c4d759e9fc"
      },
      "execution_count": 80,
      "outputs": [
        {
          "output_type": "stream",
          "name": "stdout",
          "text": [
            "Row(_c0=0, transaction_id=3300101.0, product_id=1000001.0, user_id=101, price=700.0, product_description='mouse', emailid='abc.123@gmail.com', nativelanguage='hindi', location ='mumbai') \n",
            "\n",
            "Row(_c0=1, transaction_id=3300104.0, product_id=1000004.0, user_id=101, price=35000.0, product_description='fridge', emailid='abc.123@gmail.com', nativelanguage='hindi', location ='mumbai') \n",
            "\n",
            "Row(_c0=2, transaction_id=3300109.0, product_id=1000009.0, user_id=101, price=500.0, product_description='speaker', emailid='abc.123@gmail.com', nativelanguage='hindi', location ='mumbai') \n",
            "\n",
            "Row(_c0=3, transaction_id=3300102.0, product_id=1000002.0, user_id=102, price=900.0, product_description='keyboard', emailid='jhon@gmail.com', nativelanguage='english', location ='usa') \n",
            "\n",
            "Row(_c0=4, transaction_id=3300110.0, product_id=1000010.0, user_id=102, price=1000.0, product_description='chair', emailid='jhon@gmail.com', nativelanguage='english', location ='usa') \n",
            "\n"
          ]
        }
      ]
    },
    {
      "cell_type": "code",
      "source": [
        "final.show()"
      ],
      "metadata": {
        "colab": {
          "base_uri": "https://localhost:8080/"
        },
        "id": "mCTH_lxuZgp6",
        "outputId": "d9b54449-2760-4973-a273-939bebc8e867"
      },
      "execution_count": 82,
      "outputs": [
        {
          "output_type": "stream",
          "name": "stdout",
          "text": [
            "+---+--------------+----------+-------+-------+-------------------+--------------------+--------------+---------+\n",
            "|_c0|transaction_id|product_id|user_id|  price|product_description|             emailid|nativelanguage|location |\n",
            "+---+--------------+----------+-------+-------+-------------------+--------------------+--------------+---------+\n",
            "|  0|     3300101.0| 1000001.0|    101|  700.0|              mouse|   abc.123@gmail.com|         hindi|   mumbai|\n",
            "|  1|     3300104.0| 1000004.0|    101|35000.0|             fridge|   abc.123@gmail.com|         hindi|   mumbai|\n",
            "|  2|     3300109.0| 1000009.0|    101|  500.0|            speaker|   abc.123@gmail.com|         hindi|   mumbai|\n",
            "|  3|     3300102.0| 1000002.0|    102|  900.0|           keyboard|      jhon@gmail.com|       english|      usa|\n",
            "|  4|     3300110.0| 1000010.0|    102| 1000.0|              chair|      jhon@gmail.com|       english|      usa|\n",
            "|  5|     3300103.0| 1000003.0|    103|34000.0|                 tv|  madan.44@gmail.com|       marathi|   nagpur|\n",
            "|  6|     3300105.0| 1000005.0|    105|55000.0|               sofa|  sahil.55@gmail.com|       english|      usa|\n",
            "|  7|     3300107.0| 1000007.0|    105|66000.0|             laptop|  sahil.55@gmail.com|       english|      usa|\n",
            "|  8|     3300106.0| 1000006.0|    106|  100.0|                bed|       adi@gmail.com|         hindi|   nagpur|\n",
            "|  9|     3300108.0| 1000008.0|    108|20000.0|              phone|     sohan@gmail.com|        kannad|      usa|\n",
            "| 10|          null|      null|    104|   null|               null|local.88@outlook.com|         tamil|  chennai|\n",
            "| 11|          null|      null|    107|   null|               null|     jason@gmail.com|       marathi|   mumbai|\n",
            "| 12|          null|      null|    109|   null|               null|    case@outlook.com|         tamil|   mumbai|\n",
            "| 13|          null|      null|    110|   null|               null|      fury@gmail.com|         hindi|   nagpur|\n",
            "+---+--------------+----------+-------+-------+-------------------+--------------------+--------------+---------+\n",
            "\n"
          ]
        }
      ]
    },
    {
      "cell_type": "code",
      "source": [
        "final.groupby('location ').count().show()"
      ],
      "metadata": {
        "colab": {
          "base_uri": "https://localhost:8080/"
        },
        "id": "8ycxqKmsZz1G",
        "outputId": "d431d127-c9ed-4806-d0e1-a52cfc9b7db4"
      },
      "execution_count": 85,
      "outputs": [
        {
          "output_type": "stream",
          "name": "stdout",
          "text": [
            "+---------+-----+\n",
            "|location |count|\n",
            "+---------+-----+\n",
            "|  chennai|    1|\n",
            "|   nagpur|    3|\n",
            "|   mumbai|    5|\n",
            "|      usa|    5|\n",
            "+---------+-----+\n",
            "\n"
          ]
        }
      ]
    },
    {
      "cell_type": "code",
      "source": [
        "final.printSchema()"
      ],
      "metadata": {
        "colab": {
          "base_uri": "https://localhost:8080/"
        },
        "id": "4E3xv2DJZ7UA",
        "outputId": "1370a421-fb7e-42ac-9973-50c3fa520d73"
      },
      "execution_count": 86,
      "outputs": [
        {
          "output_type": "stream",
          "name": "stdout",
          "text": [
            "root\n",
            " |-- _c0: integer (nullable = true)\n",
            " |-- transaction_id: double (nullable = true)\n",
            " |-- product_id: double (nullable = true)\n",
            " |-- user_id: integer (nullable = true)\n",
            " |-- price: double (nullable = true)\n",
            " |-- product_description: string (nullable = true)\n",
            " |-- emailid: string (nullable = true)\n",
            " |-- nativelanguage: string (nullable = true)\n",
            " |-- location : string (nullable = true)\n",
            "\n"
          ]
        }
      ]
    },
    {
      "cell_type": "code",
      "source": [
        "final.select('product_description').show()"
      ],
      "metadata": {
        "colab": {
          "base_uri": "https://localhost:8080/"
        },
        "id": "-JX1d21sbGC7",
        "outputId": "9531bac0-81a2-4a67-b0e8-606786f4821b"
      },
      "execution_count": 93,
      "outputs": [
        {
          "output_type": "stream",
          "name": "stdout",
          "text": [
            "+-------------------+\n",
            "|product_description|\n",
            "+-------------------+\n",
            "|              mouse|\n",
            "|             fridge|\n",
            "|            speaker|\n",
            "|           keyboard|\n",
            "|              chair|\n",
            "|                 tv|\n",
            "|               sofa|\n",
            "|             laptop|\n",
            "|                bed|\n",
            "|              phone|\n",
            "|               null|\n",
            "|               null|\n",
            "|               null|\n",
            "|               null|\n",
            "+-------------------+\n",
            "\n"
          ]
        }
      ]
    },
    {
      "cell_type": "code",
      "source": [
        "final.select('price')"
      ],
      "metadata": {
        "colab": {
          "base_uri": "https://localhost:8080/"
        },
        "id": "XXfGTxPrbLKR",
        "outputId": "e486cbd6-7d85-4c82-9cd7-ec876e8e507e"
      },
      "execution_count": 94,
      "outputs": [
        {
          "output_type": "execute_result",
          "data": {
            "text/plain": [
              "DataFrame[price: double]"
            ]
          },
          "metadata": {},
          "execution_count": 94
        }
      ]
    },
    {
      "cell_type": "code",
      "source": [
        "final.groupBy(\"user_id\", \"product_description\").avg('price').show()"
      ],
      "metadata": {
        "colab": {
          "base_uri": "https://localhost:8080/"
        },
        "id": "0TGJI9xJcMf6",
        "outputId": "a3c0aede-f060-409c-c455-2c3f27e7e6c6"
      },
      "execution_count": 105,
      "outputs": [
        {
          "output_type": "stream",
          "name": "stdout",
          "text": [
            "+-------+-------------------+----------+\n",
            "|user_id|product_description|avg(price)|\n",
            "+-------+-------------------+----------+\n",
            "|    108|              phone|   20000.0|\n",
            "|    101|             fridge|   35000.0|\n",
            "|    106|                bed|     100.0|\n",
            "|    101|              mouse|     700.0|\n",
            "|    101|            speaker|     500.0|\n",
            "|    107|               null|      null|\n",
            "|    102|              chair|    1000.0|\n",
            "|    105|             laptop|   66000.0|\n",
            "|    105|               sofa|   55000.0|\n",
            "|    103|                 tv|   34000.0|\n",
            "|    109|               null|      null|\n",
            "|    110|               null|      null|\n",
            "|    102|           keyboard|     900.0|\n",
            "|    104|               null|      null|\n",
            "+-------+-------------------+----------+\n",
            "\n"
          ]
        }
      ]
    },
    {
      "cell_type": "code",
      "source": [
        "final.printSchema()"
      ],
      "metadata": {
        "colab": {
          "base_uri": "https://localhost:8080/"
        },
        "id": "FLDFWAHJciNs",
        "outputId": "a95e2b69-140a-45c9-a17d-8e46dd27bbfd"
      },
      "execution_count": 102,
      "outputs": [
        {
          "output_type": "stream",
          "name": "stdout",
          "text": [
            "root\n",
            " |-- _c0: integer (nullable = true)\n",
            " |-- transaction_id: double (nullable = true)\n",
            " |-- product_id: double (nullable = true)\n",
            " |-- user_id: integer (nullable = true)\n",
            " |-- price: double (nullable = true)\n",
            " |-- product_description: string (nullable = true)\n",
            " |-- emailid: string (nullable = true)\n",
            " |-- nativelanguage: string (nullable = true)\n",
            " |-- location : string (nullable = true)\n",
            "\n"
          ]
        }
      ]
    },
    {
      "cell_type": "code",
      "source": [
        "transac"
      ],
      "metadata": {
        "colab": {
          "base_uri": "https://localhost:8080/",
          "height": 363
        },
        "id": "2zm4wqk_co87",
        "outputId": "b870987e-43bc-48bd-f0db-19652f7bd137"
      },
      "execution_count": 106,
      "outputs": [
        {
          "output_type": "execute_result",
          "data": {
            "text/plain": [
              "   transaction_id  product_id  user_id  price product_description\n",
              "0         3300101     1000001      101    700               mouse\n",
              "1         3300102     1000002      102    900            keyboard\n",
              "2         3300103     1000003      103  34000                  tv\n",
              "3         3300104     1000004      101  35000              fridge\n",
              "4         3300105     1000005      105  55000                sofa\n",
              "5         3300106     1000006      106    100                 bed\n",
              "6         3300107     1000007      105  66000              laptop\n",
              "7         3300108     1000008      108  20000               phone\n",
              "8         3300109     1000009      101    500             speaker\n",
              "9         3300110     1000010      102   1000               chair"
            ],
            "text/html": [
              "\n",
              "  <div id=\"df-304d354b-c8fa-4ae9-9ff8-1442561b866d\">\n",
              "    <div class=\"colab-df-container\">\n",
              "      <div>\n",
              "<style scoped>\n",
              "    .dataframe tbody tr th:only-of-type {\n",
              "        vertical-align: middle;\n",
              "    }\n",
              "\n",
              "    .dataframe tbody tr th {\n",
              "        vertical-align: top;\n",
              "    }\n",
              "\n",
              "    .dataframe thead th {\n",
              "        text-align: right;\n",
              "    }\n",
              "</style>\n",
              "<table border=\"1\" class=\"dataframe\">\n",
              "  <thead>\n",
              "    <tr style=\"text-align: right;\">\n",
              "      <th></th>\n",
              "      <th>transaction_id</th>\n",
              "      <th>product_id</th>\n",
              "      <th>user_id</th>\n",
              "      <th>price</th>\n",
              "      <th>product_description</th>\n",
              "    </tr>\n",
              "  </thead>\n",
              "  <tbody>\n",
              "    <tr>\n",
              "      <th>0</th>\n",
              "      <td>3300101</td>\n",
              "      <td>1000001</td>\n",
              "      <td>101</td>\n",
              "      <td>700</td>\n",
              "      <td>mouse</td>\n",
              "    </tr>\n",
              "    <tr>\n",
              "      <th>1</th>\n",
              "      <td>3300102</td>\n",
              "      <td>1000002</td>\n",
              "      <td>102</td>\n",
              "      <td>900</td>\n",
              "      <td>keyboard</td>\n",
              "    </tr>\n",
              "    <tr>\n",
              "      <th>2</th>\n",
              "      <td>3300103</td>\n",
              "      <td>1000003</td>\n",
              "      <td>103</td>\n",
              "      <td>34000</td>\n",
              "      <td>tv</td>\n",
              "    </tr>\n",
              "    <tr>\n",
              "      <th>3</th>\n",
              "      <td>3300104</td>\n",
              "      <td>1000004</td>\n",
              "      <td>101</td>\n",
              "      <td>35000</td>\n",
              "      <td>fridge</td>\n",
              "    </tr>\n",
              "    <tr>\n",
              "      <th>4</th>\n",
              "      <td>3300105</td>\n",
              "      <td>1000005</td>\n",
              "      <td>105</td>\n",
              "      <td>55000</td>\n",
              "      <td>sofa</td>\n",
              "    </tr>\n",
              "    <tr>\n",
              "      <th>5</th>\n",
              "      <td>3300106</td>\n",
              "      <td>1000006</td>\n",
              "      <td>106</td>\n",
              "      <td>100</td>\n",
              "      <td>bed</td>\n",
              "    </tr>\n",
              "    <tr>\n",
              "      <th>6</th>\n",
              "      <td>3300107</td>\n",
              "      <td>1000007</td>\n",
              "      <td>105</td>\n",
              "      <td>66000</td>\n",
              "      <td>laptop</td>\n",
              "    </tr>\n",
              "    <tr>\n",
              "      <th>7</th>\n",
              "      <td>3300108</td>\n",
              "      <td>1000008</td>\n",
              "      <td>108</td>\n",
              "      <td>20000</td>\n",
              "      <td>phone</td>\n",
              "    </tr>\n",
              "    <tr>\n",
              "      <th>8</th>\n",
              "      <td>3300109</td>\n",
              "      <td>1000009</td>\n",
              "      <td>101</td>\n",
              "      <td>500</td>\n",
              "      <td>speaker</td>\n",
              "    </tr>\n",
              "    <tr>\n",
              "      <th>9</th>\n",
              "      <td>3300110</td>\n",
              "      <td>1000010</td>\n",
              "      <td>102</td>\n",
              "      <td>1000</td>\n",
              "      <td>chair</td>\n",
              "    </tr>\n",
              "  </tbody>\n",
              "</table>\n",
              "</div>\n",
              "      <button class=\"colab-df-convert\" onclick=\"convertToInteractive('df-304d354b-c8fa-4ae9-9ff8-1442561b866d')\"\n",
              "              title=\"Convert this dataframe to an interactive table.\"\n",
              "              style=\"display:none;\">\n",
              "        \n",
              "  <svg xmlns=\"http://www.w3.org/2000/svg\" height=\"24px\"viewBox=\"0 0 24 24\"\n",
              "       width=\"24px\">\n",
              "    <path d=\"M0 0h24v24H0V0z\" fill=\"none\"/>\n",
              "    <path d=\"M18.56 5.44l.94 2.06.94-2.06 2.06-.94-2.06-.94-.94-2.06-.94 2.06-2.06.94zm-11 1L8.5 8.5l.94-2.06 2.06-.94-2.06-.94L8.5 2.5l-.94 2.06-2.06.94zm10 10l.94 2.06.94-2.06 2.06-.94-2.06-.94-.94-2.06-.94 2.06-2.06.94z\"/><path d=\"M17.41 7.96l-1.37-1.37c-.4-.4-.92-.59-1.43-.59-.52 0-1.04.2-1.43.59L10.3 9.45l-7.72 7.72c-.78.78-.78 2.05 0 2.83L4 21.41c.39.39.9.59 1.41.59.51 0 1.02-.2 1.41-.59l7.78-7.78 2.81-2.81c.8-.78.8-2.07 0-2.86zM5.41 20L4 18.59l7.72-7.72 1.47 1.35L5.41 20z\"/>\n",
              "  </svg>\n",
              "      </button>\n",
              "      \n",
              "  <style>\n",
              "    .colab-df-container {\n",
              "      display:flex;\n",
              "      flex-wrap:wrap;\n",
              "      gap: 12px;\n",
              "    }\n",
              "\n",
              "    .colab-df-convert {\n",
              "      background-color: #E8F0FE;\n",
              "      border: none;\n",
              "      border-radius: 50%;\n",
              "      cursor: pointer;\n",
              "      display: none;\n",
              "      fill: #1967D2;\n",
              "      height: 32px;\n",
              "      padding: 0 0 0 0;\n",
              "      width: 32px;\n",
              "    }\n",
              "\n",
              "    .colab-df-convert:hover {\n",
              "      background-color: #E2EBFA;\n",
              "      box-shadow: 0px 1px 2px rgba(60, 64, 67, 0.3), 0px 1px 3px 1px rgba(60, 64, 67, 0.15);\n",
              "      fill: #174EA6;\n",
              "    }\n",
              "\n",
              "    [theme=dark] .colab-df-convert {\n",
              "      background-color: #3B4455;\n",
              "      fill: #D2E3FC;\n",
              "    }\n",
              "\n",
              "    [theme=dark] .colab-df-convert:hover {\n",
              "      background-color: #434B5C;\n",
              "      box-shadow: 0px 1px 3px 1px rgba(0, 0, 0, 0.15);\n",
              "      filter: drop-shadow(0px 1px 2px rgba(0, 0, 0, 0.3));\n",
              "      fill: #FFFFFF;\n",
              "    }\n",
              "  </style>\n",
              "\n",
              "      <script>\n",
              "        const buttonEl =\n",
              "          document.querySelector('#df-304d354b-c8fa-4ae9-9ff8-1442561b866d button.colab-df-convert');\n",
              "        buttonEl.style.display =\n",
              "          google.colab.kernel.accessAllowed ? 'block' : 'none';\n",
              "\n",
              "        async function convertToInteractive(key) {\n",
              "          const element = document.querySelector('#df-304d354b-c8fa-4ae9-9ff8-1442561b866d');\n",
              "          const dataTable =\n",
              "            await google.colab.kernel.invokeFunction('convertToInteractive',\n",
              "                                                     [key], {});\n",
              "          if (!dataTable) return;\n",
              "\n",
              "          const docLinkHtml = 'Like what you see? Visit the ' +\n",
              "            '<a target=\"_blank\" href=https://colab.research.google.com/notebooks/data_table.ipynb>data table notebook</a>'\n",
              "            + ' to learn more about interactive tables.';\n",
              "          element.innerHTML = '';\n",
              "          dataTable['output_type'] = 'display_data';\n",
              "          await google.colab.output.renderOutput(dataTable, element);\n",
              "          const docLink = document.createElement('div');\n",
              "          docLink.innerHTML = docLinkHtml;\n",
              "          element.appendChild(docLink);\n",
              "        }\n",
              "      </script>\n",
              "    </div>\n",
              "  </div>\n",
              "  "
            ]
          },
          "metadata": {},
          "execution_count": 106
        }
      ]
    },
    {
      "cell_type": "code",
      "source": [
        "user"
      ],
      "metadata": {
        "colab": {
          "base_uri": "https://localhost:8080/",
          "height": 363
        },
        "id": "57h0BbmLeD62",
        "outputId": "b01dc16c-fe49-45fc-94e8-c0598afefcf6"
      },
      "execution_count": 107,
      "outputs": [
        {
          "output_type": "execute_result",
          "data": {
            "text/plain": [
              "   user_id               emailid nativelanguage location \n",
              "0      101     abc.123@gmail.com          hindi    mumbai\n",
              "1      102        jhon@gmail.com        english       usa\n",
              "2      103    madan.44@gmail.com        marathi    nagpur\n",
              "3      104  local.88@outlook.com          tamil   chennai\n",
              "4      105    sahil.55@gmail.com        english       usa\n",
              "5      106         adi@gmail.com          hindi    nagpur\n",
              "6      107       jason@gmail.com        marathi    mumbai\n",
              "7      108       sohan@gmail.com         kannad       usa\n",
              "8      109      case@outlook.com          tamil    mumbai\n",
              "9      110        fury@gmail.com          hindi    nagpur"
            ],
            "text/html": [
              "\n",
              "  <div id=\"df-65aeec6f-d7c9-491f-96da-9921e9e7edb7\">\n",
              "    <div class=\"colab-df-container\">\n",
              "      <div>\n",
              "<style scoped>\n",
              "    .dataframe tbody tr th:only-of-type {\n",
              "        vertical-align: middle;\n",
              "    }\n",
              "\n",
              "    .dataframe tbody tr th {\n",
              "        vertical-align: top;\n",
              "    }\n",
              "\n",
              "    .dataframe thead th {\n",
              "        text-align: right;\n",
              "    }\n",
              "</style>\n",
              "<table border=\"1\" class=\"dataframe\">\n",
              "  <thead>\n",
              "    <tr style=\"text-align: right;\">\n",
              "      <th></th>\n",
              "      <th>user_id</th>\n",
              "      <th>emailid</th>\n",
              "      <th>nativelanguage</th>\n",
              "      <th>location</th>\n",
              "    </tr>\n",
              "  </thead>\n",
              "  <tbody>\n",
              "    <tr>\n",
              "      <th>0</th>\n",
              "      <td>101</td>\n",
              "      <td>abc.123@gmail.com</td>\n",
              "      <td>hindi</td>\n",
              "      <td>mumbai</td>\n",
              "    </tr>\n",
              "    <tr>\n",
              "      <th>1</th>\n",
              "      <td>102</td>\n",
              "      <td>jhon@gmail.com</td>\n",
              "      <td>english</td>\n",
              "      <td>usa</td>\n",
              "    </tr>\n",
              "    <tr>\n",
              "      <th>2</th>\n",
              "      <td>103</td>\n",
              "      <td>madan.44@gmail.com</td>\n",
              "      <td>marathi</td>\n",
              "      <td>nagpur</td>\n",
              "    </tr>\n",
              "    <tr>\n",
              "      <th>3</th>\n",
              "      <td>104</td>\n",
              "      <td>local.88@outlook.com</td>\n",
              "      <td>tamil</td>\n",
              "      <td>chennai</td>\n",
              "    </tr>\n",
              "    <tr>\n",
              "      <th>4</th>\n",
              "      <td>105</td>\n",
              "      <td>sahil.55@gmail.com</td>\n",
              "      <td>english</td>\n",
              "      <td>usa</td>\n",
              "    </tr>\n",
              "    <tr>\n",
              "      <th>5</th>\n",
              "      <td>106</td>\n",
              "      <td>adi@gmail.com</td>\n",
              "      <td>hindi</td>\n",
              "      <td>nagpur</td>\n",
              "    </tr>\n",
              "    <tr>\n",
              "      <th>6</th>\n",
              "      <td>107</td>\n",
              "      <td>jason@gmail.com</td>\n",
              "      <td>marathi</td>\n",
              "      <td>mumbai</td>\n",
              "    </tr>\n",
              "    <tr>\n",
              "      <th>7</th>\n",
              "      <td>108</td>\n",
              "      <td>sohan@gmail.com</td>\n",
              "      <td>kannad</td>\n",
              "      <td>usa</td>\n",
              "    </tr>\n",
              "    <tr>\n",
              "      <th>8</th>\n",
              "      <td>109</td>\n",
              "      <td>case@outlook.com</td>\n",
              "      <td>tamil</td>\n",
              "      <td>mumbai</td>\n",
              "    </tr>\n",
              "    <tr>\n",
              "      <th>9</th>\n",
              "      <td>110</td>\n",
              "      <td>fury@gmail.com</td>\n",
              "      <td>hindi</td>\n",
              "      <td>nagpur</td>\n",
              "    </tr>\n",
              "  </tbody>\n",
              "</table>\n",
              "</div>\n",
              "      <button class=\"colab-df-convert\" onclick=\"convertToInteractive('df-65aeec6f-d7c9-491f-96da-9921e9e7edb7')\"\n",
              "              title=\"Convert this dataframe to an interactive table.\"\n",
              "              style=\"display:none;\">\n",
              "        \n",
              "  <svg xmlns=\"http://www.w3.org/2000/svg\" height=\"24px\"viewBox=\"0 0 24 24\"\n",
              "       width=\"24px\">\n",
              "    <path d=\"M0 0h24v24H0V0z\" fill=\"none\"/>\n",
              "    <path d=\"M18.56 5.44l.94 2.06.94-2.06 2.06-.94-2.06-.94-.94-2.06-.94 2.06-2.06.94zm-11 1L8.5 8.5l.94-2.06 2.06-.94-2.06-.94L8.5 2.5l-.94 2.06-2.06.94zm10 10l.94 2.06.94-2.06 2.06-.94-2.06-.94-.94-2.06-.94 2.06-2.06.94z\"/><path d=\"M17.41 7.96l-1.37-1.37c-.4-.4-.92-.59-1.43-.59-.52 0-1.04.2-1.43.59L10.3 9.45l-7.72 7.72c-.78.78-.78 2.05 0 2.83L4 21.41c.39.39.9.59 1.41.59.51 0 1.02-.2 1.41-.59l7.78-7.78 2.81-2.81c.8-.78.8-2.07 0-2.86zM5.41 20L4 18.59l7.72-7.72 1.47 1.35L5.41 20z\"/>\n",
              "  </svg>\n",
              "      </button>\n",
              "      \n",
              "  <style>\n",
              "    .colab-df-container {\n",
              "      display:flex;\n",
              "      flex-wrap:wrap;\n",
              "      gap: 12px;\n",
              "    }\n",
              "\n",
              "    .colab-df-convert {\n",
              "      background-color: #E8F0FE;\n",
              "      border: none;\n",
              "      border-radius: 50%;\n",
              "      cursor: pointer;\n",
              "      display: none;\n",
              "      fill: #1967D2;\n",
              "      height: 32px;\n",
              "      padding: 0 0 0 0;\n",
              "      width: 32px;\n",
              "    }\n",
              "\n",
              "    .colab-df-convert:hover {\n",
              "      background-color: #E2EBFA;\n",
              "      box-shadow: 0px 1px 2px rgba(60, 64, 67, 0.3), 0px 1px 3px 1px rgba(60, 64, 67, 0.15);\n",
              "      fill: #174EA6;\n",
              "    }\n",
              "\n",
              "    [theme=dark] .colab-df-convert {\n",
              "      background-color: #3B4455;\n",
              "      fill: #D2E3FC;\n",
              "    }\n",
              "\n",
              "    [theme=dark] .colab-df-convert:hover {\n",
              "      background-color: #434B5C;\n",
              "      box-shadow: 0px 1px 3px 1px rgba(0, 0, 0, 0.15);\n",
              "      filter: drop-shadow(0px 1px 2px rgba(0, 0, 0, 0.3));\n",
              "      fill: #FFFFFF;\n",
              "    }\n",
              "  </style>\n",
              "\n",
              "      <script>\n",
              "        const buttonEl =\n",
              "          document.querySelector('#df-65aeec6f-d7c9-491f-96da-9921e9e7edb7 button.colab-df-convert');\n",
              "        buttonEl.style.display =\n",
              "          google.colab.kernel.accessAllowed ? 'block' : 'none';\n",
              "\n",
              "        async function convertToInteractive(key) {\n",
              "          const element = document.querySelector('#df-65aeec6f-d7c9-491f-96da-9921e9e7edb7');\n",
              "          const dataTable =\n",
              "            await google.colab.kernel.invokeFunction('convertToInteractive',\n",
              "                                                     [key], {});\n",
              "          if (!dataTable) return;\n",
              "\n",
              "          const docLinkHtml = 'Like what you see? Visit the ' +\n",
              "            '<a target=\"_blank\" href=https://colab.research.google.com/notebooks/data_table.ipynb>data table notebook</a>'\n",
              "            + ' to learn more about interactive tables.';\n",
              "          element.innerHTML = '';\n",
              "          dataTable['output_type'] = 'display_data';\n",
              "          await google.colab.output.renderOutput(dataTable, element);\n",
              "          const docLink = document.createElement('div');\n",
              "          docLink.innerHTML = docLinkHtml;\n",
              "          element.appendChild(docLink);\n",
              "        }\n",
              "      </script>\n",
              "    </div>\n",
              "  </div>\n",
              "  "
            ]
          },
          "metadata": {},
          "execution_count": 107
        }
      ]
    },
    {
      "cell_type": "code",
      "source": [
        "df = pd.merge(transac, user, on='user_id', how='inner')"
      ],
      "metadata": {
        "id": "OTIJFVRUeJAL"
      },
      "execution_count": 109,
      "outputs": []
    },
    {
      "cell_type": "code",
      "source": [
        "df.to_csv('inner_join.csv')"
      ],
      "metadata": {
        "id": "SwZeuqk9eZK1"
      },
      "execution_count": 113,
      "outputs": []
    },
    {
      "cell_type": "code",
      "source": [
        "inner = spark.read.option('inferSchema', 'True').option('header', 'True').csv('inner_join.csv')"
      ],
      "metadata": {
        "id": "vnE5sBuueu3S"
      },
      "execution_count": 115,
      "outputs": []
    },
    {
      "cell_type": "code",
      "source": [
        "inner.show()"
      ],
      "metadata": {
        "colab": {
          "base_uri": "https://localhost:8080/"
        },
        "id": "flkr55A7ey-Q",
        "outputId": "5dbdf5ce-2c53-43db-a9e3-037c17a37cd4"
      },
      "execution_count": 116,
      "outputs": [
        {
          "output_type": "stream",
          "name": "stdout",
          "text": [
            "+---+--------------+----------+-------+-----+-------------------+------------------+--------------+---------+\n",
            "|_c0|transaction_id|product_id|user_id|price|product_description|           emailid|nativelanguage|location |\n",
            "+---+--------------+----------+-------+-----+-------------------+------------------+--------------+---------+\n",
            "|  0|       3300101|   1000001|    101|  700|              mouse| abc.123@gmail.com|         hindi|   mumbai|\n",
            "|  1|       3300104|   1000004|    101|35000|             fridge| abc.123@gmail.com|         hindi|   mumbai|\n",
            "|  2|       3300109|   1000009|    101|  500|            speaker| abc.123@gmail.com|         hindi|   mumbai|\n",
            "|  3|       3300102|   1000002|    102|  900|           keyboard|    jhon@gmail.com|       english|      usa|\n",
            "|  4|       3300110|   1000010|    102| 1000|              chair|    jhon@gmail.com|       english|      usa|\n",
            "|  5|       3300103|   1000003|    103|34000|                 tv|madan.44@gmail.com|       marathi|   nagpur|\n",
            "|  6|       3300105|   1000005|    105|55000|               sofa|sahil.55@gmail.com|       english|      usa|\n",
            "|  7|       3300107|   1000007|    105|66000|             laptop|sahil.55@gmail.com|       english|      usa|\n",
            "|  8|       3300106|   1000006|    106|  100|                bed|     adi@gmail.com|         hindi|   nagpur|\n",
            "|  9|       3300108|   1000008|    108|20000|              phone|   sohan@gmail.com|        kannad|      usa|\n",
            "+---+--------------+----------+-------+-----+-------------------+------------------+--------------+---------+\n",
            "\n"
          ]
        }
      ]
    },
    {
      "cell_type": "code",
      "source": [
        "inner.columns"
      ],
      "metadata": {
        "colab": {
          "base_uri": "https://localhost:8080/"
        },
        "id": "0Z5taRUefbUJ",
        "outputId": "59aba88e-0e84-4880-8fca-805b9eba5abc"
      },
      "execution_count": 118,
      "outputs": [
        {
          "output_type": "execute_result",
          "data": {
            "text/plain": [
              "['_c0',\n",
              " 'transaction_id',\n",
              " 'product_id',\n",
              " 'user_id',\n",
              " 'price',\n",
              " 'product_description',\n",
              " 'emailid',\n",
              " 'nativelanguage',\n",
              " 'location ']"
            ]
          },
          "metadata": {},
          "execution_count": 118
        }
      ]
    },
    {
      "cell_type": "code",
      "source": [
        "inner.groupby('location ').count().show()"
      ],
      "metadata": {
        "colab": {
          "base_uri": "https://localhost:8080/"
        },
        "id": "pFyzUadgfchj",
        "outputId": "212c5c89-3ae4-4f9a-a220-4d2c7cc15e8d"
      },
      "execution_count": 120,
      "outputs": [
        {
          "output_type": "stream",
          "name": "stdout",
          "text": [
            "+---------+-----+\n",
            "|location |count|\n",
            "+---------+-----+\n",
            "|   nagpur|    2|\n",
            "|   mumbai|    3|\n",
            "|      usa|    5|\n",
            "+---------+-----+\n",
            "\n"
          ]
        }
      ]
    },
    {
      "cell_type": "code",
      "source": [
        "final.groupby('location ').count().show()"
      ],
      "metadata": {
        "colab": {
          "base_uri": "https://localhost:8080/"
        },
        "id": "sBivdjv3fkbV",
        "outputId": "ab465e66-3a70-4f8f-b577-c76c4d349fd8"
      },
      "execution_count": 121,
      "outputs": [
        {
          "output_type": "stream",
          "name": "stdout",
          "text": [
            "+---------+-----+\n",
            "|location |count|\n",
            "+---------+-----+\n",
            "|  chennai|    1|\n",
            "|   nagpur|    3|\n",
            "|   mumbai|    5|\n",
            "|      usa|    5|\n",
            "+---------+-----+\n",
            "\n"
          ]
        }
      ]
    },
    {
      "cell_type": "code",
      "source": [
        "inner.groupBy(\"user_id\", \"product_description\").avg('price').show()"
      ],
      "metadata": {
        "colab": {
          "base_uri": "https://localhost:8080/"
        },
        "id": "n0fRxiCBfqFO",
        "outputId": "8d637d52-c8b1-4335-d137-53824f10fa3f"
      },
      "execution_count": 122,
      "outputs": [
        {
          "output_type": "stream",
          "name": "stdout",
          "text": [
            "+-------+-------------------+----------+\n",
            "|user_id|product_description|avg(price)|\n",
            "+-------+-------------------+----------+\n",
            "|    108|              phone|   20000.0|\n",
            "|    101|             fridge|   35000.0|\n",
            "|    106|                bed|     100.0|\n",
            "|    101|              mouse|     700.0|\n",
            "|    101|            speaker|     500.0|\n",
            "|    102|              chair|    1000.0|\n",
            "|    105|             laptop|   66000.0|\n",
            "|    105|               sofa|   55000.0|\n",
            "|    103|                 tv|   34000.0|\n",
            "|    102|           keyboard|     900.0|\n",
            "+-------+-------------------+----------+\n",
            "\n"
          ]
        }
      ]
    },
    {
      "cell_type": "code",
      "source": [
        "inner.groupBy(\"user_id\", \"product_description\").count().show()"
      ],
      "metadata": {
        "colab": {
          "base_uri": "https://localhost:8080/"
        },
        "id": "qCL4unnTf13j",
        "outputId": "aab46336-3b13-4f36-c33c-f66c3015411b"
      },
      "execution_count": 128,
      "outputs": [
        {
          "output_type": "stream",
          "name": "stdout",
          "text": [
            "+-------+-------------------+-----+\n",
            "|user_id|product_description|count|\n",
            "+-------+-------------------+-----+\n",
            "|    108|              phone|    1|\n",
            "|    101|             fridge|    1|\n",
            "|    106|                bed|    1|\n",
            "|    101|              mouse|    1|\n",
            "|    101|            speaker|    1|\n",
            "|    102|              chair|    1|\n",
            "|    105|             laptop|    1|\n",
            "|    105|               sofa|    1|\n",
            "|    103|                 tv|    1|\n",
            "|    102|           keyboard|    1|\n",
            "+-------+-------------------+-----+\n",
            "\n"
          ]
        }
      ]
    },
    {
      "cell_type": "code",
      "source": [
        ""
      ],
      "metadata": {
        "id": "4WCzotlHf-MK"
      },
      "execution_count": null,
      "outputs": []
    }
  ]
}